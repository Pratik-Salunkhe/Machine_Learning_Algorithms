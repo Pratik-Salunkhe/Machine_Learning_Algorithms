{
 "cells": [
  {
   "cell_type": "markdown",
   "id": "3fd49e10",
   "metadata": {},
   "source": [
    "# LOGISTIC REGRESSION MODEL BUILDING ON `Churn` DATA"
   ]
  },
  {
   "cell_type": "markdown",
   "id": "abe0991e",
   "metadata": {},
   "source": [
    "###### - Importing pandas Library"
   ]
  },
  {
   "cell_type": "code",
   "execution_count": 1,
   "id": "7335b321",
   "metadata": {},
   "outputs": [],
   "source": [
    "import pandas as pd"
   ]
  },
  {
   "cell_type": "markdown",
   "id": "af159655",
   "metadata": {},
   "source": [
    "###### - Reading .csv file"
   ]
  },
  {
   "cell_type": "code",
   "execution_count": 2,
   "id": "019fbf40",
   "metadata": {},
   "outputs": [
    {
     "data": {
      "text/html": [
       "<div>\n",
       "<style scoped>\n",
       "    .dataframe tbody tr th:only-of-type {\n",
       "        vertical-align: middle;\n",
       "    }\n",
       "\n",
       "    .dataframe tbody tr th {\n",
       "        vertical-align: top;\n",
       "    }\n",
       "\n",
       "    .dataframe thead th {\n",
       "        text-align: right;\n",
       "    }\n",
       "</style>\n",
       "<table border=\"1\" class=\"dataframe\">\n",
       "  <thead>\n",
       "    <tr style=\"text-align: right;\">\n",
       "      <th></th>\n",
       "      <th>customerID</th>\n",
       "      <th>gender</th>\n",
       "      <th>SeniorCitizen</th>\n",
       "      <th>Partner</th>\n",
       "      <th>Dependents</th>\n",
       "      <th>tenure</th>\n",
       "      <th>PhoneService</th>\n",
       "      <th>MultipleLines</th>\n",
       "      <th>InternetService</th>\n",
       "      <th>OnlineSecurity</th>\n",
       "      <th>...</th>\n",
       "      <th>DeviceProtection</th>\n",
       "      <th>TechSupport</th>\n",
       "      <th>StreamingTV</th>\n",
       "      <th>StreamingMovies</th>\n",
       "      <th>Contract</th>\n",
       "      <th>PaperlessBilling</th>\n",
       "      <th>PaymentMethod</th>\n",
       "      <th>MonthlyCharges</th>\n",
       "      <th>TotalCharges</th>\n",
       "      <th>Churn</th>\n",
       "    </tr>\n",
       "  </thead>\n",
       "  <tbody>\n",
       "    <tr>\n",
       "      <th>0</th>\n",
       "      <td>7590-VHVEG</td>\n",
       "      <td>Female</td>\n",
       "      <td>0</td>\n",
       "      <td>Yes</td>\n",
       "      <td>No</td>\n",
       "      <td>1</td>\n",
       "      <td>No</td>\n",
       "      <td>No phone service</td>\n",
       "      <td>DSL</td>\n",
       "      <td>No</td>\n",
       "      <td>...</td>\n",
       "      <td>No</td>\n",
       "      <td>No</td>\n",
       "      <td>No</td>\n",
       "      <td>No</td>\n",
       "      <td>Month-to-month</td>\n",
       "      <td>Yes</td>\n",
       "      <td>Electronic check</td>\n",
       "      <td>29.85</td>\n",
       "      <td>29.85</td>\n",
       "      <td>No</td>\n",
       "    </tr>\n",
       "    <tr>\n",
       "      <th>1</th>\n",
       "      <td>5575-GNVDE</td>\n",
       "      <td>Male</td>\n",
       "      <td>0</td>\n",
       "      <td>No</td>\n",
       "      <td>No</td>\n",
       "      <td>34</td>\n",
       "      <td>Yes</td>\n",
       "      <td>No</td>\n",
       "      <td>DSL</td>\n",
       "      <td>Yes</td>\n",
       "      <td>...</td>\n",
       "      <td>Yes</td>\n",
       "      <td>No</td>\n",
       "      <td>No</td>\n",
       "      <td>No</td>\n",
       "      <td>One year</td>\n",
       "      <td>No</td>\n",
       "      <td>Mailed check</td>\n",
       "      <td>56.95</td>\n",
       "      <td>1889.5</td>\n",
       "      <td>No</td>\n",
       "    </tr>\n",
       "    <tr>\n",
       "      <th>2</th>\n",
       "      <td>3668-QPYBK</td>\n",
       "      <td>Male</td>\n",
       "      <td>0</td>\n",
       "      <td>No</td>\n",
       "      <td>No</td>\n",
       "      <td>2</td>\n",
       "      <td>Yes</td>\n",
       "      <td>No</td>\n",
       "      <td>DSL</td>\n",
       "      <td>Yes</td>\n",
       "      <td>...</td>\n",
       "      <td>No</td>\n",
       "      <td>No</td>\n",
       "      <td>No</td>\n",
       "      <td>No</td>\n",
       "      <td>Month-to-month</td>\n",
       "      <td>Yes</td>\n",
       "      <td>Mailed check</td>\n",
       "      <td>53.85</td>\n",
       "      <td>108.15</td>\n",
       "      <td>Yes</td>\n",
       "    </tr>\n",
       "    <tr>\n",
       "      <th>3</th>\n",
       "      <td>7795-CFOCW</td>\n",
       "      <td>Male</td>\n",
       "      <td>0</td>\n",
       "      <td>No</td>\n",
       "      <td>No</td>\n",
       "      <td>45</td>\n",
       "      <td>No</td>\n",
       "      <td>No phone service</td>\n",
       "      <td>DSL</td>\n",
       "      <td>Yes</td>\n",
       "      <td>...</td>\n",
       "      <td>Yes</td>\n",
       "      <td>Yes</td>\n",
       "      <td>No</td>\n",
       "      <td>No</td>\n",
       "      <td>One year</td>\n",
       "      <td>No</td>\n",
       "      <td>Bank transfer (automatic)</td>\n",
       "      <td>42.30</td>\n",
       "      <td>1840.75</td>\n",
       "      <td>No</td>\n",
       "    </tr>\n",
       "    <tr>\n",
       "      <th>4</th>\n",
       "      <td>9237-HQITU</td>\n",
       "      <td>Female</td>\n",
       "      <td>0</td>\n",
       "      <td>No</td>\n",
       "      <td>No</td>\n",
       "      <td>2</td>\n",
       "      <td>Yes</td>\n",
       "      <td>No</td>\n",
       "      <td>Fiber optic</td>\n",
       "      <td>No</td>\n",
       "      <td>...</td>\n",
       "      <td>No</td>\n",
       "      <td>No</td>\n",
       "      <td>No</td>\n",
       "      <td>No</td>\n",
       "      <td>Month-to-month</td>\n",
       "      <td>Yes</td>\n",
       "      <td>Electronic check</td>\n",
       "      <td>70.70</td>\n",
       "      <td>151.65</td>\n",
       "      <td>Yes</td>\n",
       "    </tr>\n",
       "    <tr>\n",
       "      <th>5</th>\n",
       "      <td>9305-CDSKC</td>\n",
       "      <td>Female</td>\n",
       "      <td>0</td>\n",
       "      <td>No</td>\n",
       "      <td>No</td>\n",
       "      <td>8</td>\n",
       "      <td>Yes</td>\n",
       "      <td>Yes</td>\n",
       "      <td>Fiber optic</td>\n",
       "      <td>No</td>\n",
       "      <td>...</td>\n",
       "      <td>Yes</td>\n",
       "      <td>No</td>\n",
       "      <td>Yes</td>\n",
       "      <td>Yes</td>\n",
       "      <td>Month-to-month</td>\n",
       "      <td>Yes</td>\n",
       "      <td>Electronic check</td>\n",
       "      <td>99.65</td>\n",
       "      <td>820.5</td>\n",
       "      <td>Yes</td>\n",
       "    </tr>\n",
       "  </tbody>\n",
       "</table>\n",
       "<p>6 rows × 21 columns</p>\n",
       "</div>"
      ],
      "text/plain": [
       "   customerID  gender  SeniorCitizen Partner Dependents  tenure PhoneService  \\\n",
       "0  7590-VHVEG  Female              0     Yes         No       1           No   \n",
       "1  5575-GNVDE    Male              0      No         No      34          Yes   \n",
       "2  3668-QPYBK    Male              0      No         No       2          Yes   \n",
       "3  7795-CFOCW    Male              0      No         No      45           No   \n",
       "4  9237-HQITU  Female              0      No         No       2          Yes   \n",
       "5  9305-CDSKC  Female              0      No         No       8          Yes   \n",
       "\n",
       "      MultipleLines InternetService OnlineSecurity  ... DeviceProtection  \\\n",
       "0  No phone service             DSL             No  ...               No   \n",
       "1                No             DSL            Yes  ...              Yes   \n",
       "2                No             DSL            Yes  ...               No   \n",
       "3  No phone service             DSL            Yes  ...              Yes   \n",
       "4                No     Fiber optic             No  ...               No   \n",
       "5               Yes     Fiber optic             No  ...              Yes   \n",
       "\n",
       "  TechSupport StreamingTV StreamingMovies        Contract PaperlessBilling  \\\n",
       "0          No          No              No  Month-to-month              Yes   \n",
       "1          No          No              No        One year               No   \n",
       "2          No          No              No  Month-to-month              Yes   \n",
       "3         Yes          No              No        One year               No   \n",
       "4          No          No              No  Month-to-month              Yes   \n",
       "5          No         Yes             Yes  Month-to-month              Yes   \n",
       "\n",
       "               PaymentMethod MonthlyCharges  TotalCharges Churn  \n",
       "0           Electronic check          29.85         29.85    No  \n",
       "1               Mailed check          56.95        1889.5    No  \n",
       "2               Mailed check          53.85        108.15   Yes  \n",
       "3  Bank transfer (automatic)          42.30       1840.75    No  \n",
       "4           Electronic check          70.70        151.65   Yes  \n",
       "5           Electronic check          99.65         820.5   Yes  \n",
       "\n",
       "[6 rows x 21 columns]"
      ]
     },
     "execution_count": 2,
     "metadata": {},
     "output_type": "execute_result"
    }
   ],
   "source": [
    "c = pd.read_csv(\"Churn.csv\")\n",
    "c.head(6)"
   ]
  },
  {
   "cell_type": "markdown",
   "id": "873c0b5d",
   "metadata": {},
   "source": [
    "### FILLING OF NULL VALUES"
   ]
  },
  {
   "cell_type": "markdown",
   "id": "dff4f160",
   "metadata": {},
   "source": [
    "###### - Checking for the presence of null values in the data"
   ]
  },
  {
   "cell_type": "code",
   "execution_count": 3,
   "id": "73caa848",
   "metadata": {},
   "outputs": [
    {
     "data": {
      "text/plain": [
       "customerID          0\n",
       "gender              0\n",
       "SeniorCitizen       0\n",
       "Partner             0\n",
       "Dependents          0\n",
       "tenure              0\n",
       "PhoneService        0\n",
       "MultipleLines       0\n",
       "InternetService     0\n",
       "OnlineSecurity      0\n",
       "OnlineBackup        0\n",
       "DeviceProtection    0\n",
       "TechSupport         0\n",
       "StreamingTV         0\n",
       "StreamingMovies     0\n",
       "Contract            0\n",
       "PaperlessBilling    0\n",
       "PaymentMethod       0\n",
       "MonthlyCharges      0\n",
       "TotalCharges        0\n",
       "Churn               0\n",
       "dtype: int64"
      ]
     },
     "execution_count": 3,
     "metadata": {},
     "output_type": "execute_result"
    }
   ],
   "source": [
    "c.isnull().sum()"
   ]
  },
  {
   "cell_type": "markdown",
   "id": "a9e6656d",
   "metadata": {},
   "source": [
    "###### - As there is no any null value in dataset"
   ]
  },
  {
   "cell_type": "markdown",
   "id": "9002bc4e",
   "metadata": {},
   "source": [
    "### REMOVING OF UNWANTED COLUMNS"
   ]
  },
  {
   "cell_type": "code",
   "execution_count": 4,
   "id": "f151ce00",
   "metadata": {},
   "outputs": [],
   "source": [
    " c = c.drop('customerID', axis = 1)"
   ]
  },
  {
   "cell_type": "markdown",
   "id": "c8dd62dc",
   "metadata": {},
   "source": [
    "### CONVERSION OF NON-NUMERIC VALUES TO NUMERIC"
   ]
  },
  {
   "cell_type": "code",
   "execution_count": 5,
   "id": "4f88137f",
   "metadata": {},
   "outputs": [
    {
     "data": {
      "text/plain": [
       "Fiber optic    3096\n",
       "DSL            2421\n",
       "No             1526\n",
       "Name: InternetService, dtype: int64"
      ]
     },
     "execution_count": 5,
     "metadata": {},
     "output_type": "execute_result"
    }
   ],
   "source": [
    "c.InternetService.value_counts()  # PaymentMethod,Contract,InternetService"
   ]
  },
  {
   "cell_type": "markdown",
   "id": "ef25abbb",
   "metadata": {},
   "source": [
    "###### - conversion of non-numeric column to numeric for an ordinal data"
   ]
  },
  {
   "cell_type": "code",
   "execution_count": 6,
   "id": "4c733e36",
   "metadata": {},
   "outputs": [
    {
     "data": {
      "text/html": [
       "<div>\n",
       "<style scoped>\n",
       "    .dataframe tbody tr th:only-of-type {\n",
       "        vertical-align: middle;\n",
       "    }\n",
       "\n",
       "    .dataframe tbody tr th {\n",
       "        vertical-align: top;\n",
       "    }\n",
       "\n",
       "    .dataframe thead th {\n",
       "        text-align: right;\n",
       "    }\n",
       "</style>\n",
       "<table border=\"1\" class=\"dataframe\">\n",
       "  <thead>\n",
       "    <tr style=\"text-align: right;\">\n",
       "      <th></th>\n",
       "      <th>gender</th>\n",
       "      <th>SeniorCitizen</th>\n",
       "      <th>Partner</th>\n",
       "      <th>Dependents</th>\n",
       "      <th>tenure</th>\n",
       "      <th>PhoneService</th>\n",
       "      <th>MultipleLines</th>\n",
       "      <th>InternetService</th>\n",
       "      <th>OnlineSecurity</th>\n",
       "      <th>OnlineBackup</th>\n",
       "      <th>DeviceProtection</th>\n",
       "      <th>TechSupport</th>\n",
       "      <th>StreamingTV</th>\n",
       "      <th>StreamingMovies</th>\n",
       "      <th>Contract</th>\n",
       "      <th>PaperlessBilling</th>\n",
       "      <th>PaymentMethod</th>\n",
       "      <th>MonthlyCharges</th>\n",
       "      <th>TotalCharges</th>\n",
       "      <th>Churn</th>\n",
       "    </tr>\n",
       "  </thead>\n",
       "  <tbody>\n",
       "    <tr>\n",
       "      <th>0</th>\n",
       "      <td>Female</td>\n",
       "      <td>0</td>\n",
       "      <td>Yes</td>\n",
       "      <td>No</td>\n",
       "      <td>1</td>\n",
       "      <td>No</td>\n",
       "      <td>No phone service</td>\n",
       "      <td>2</td>\n",
       "      <td>No</td>\n",
       "      <td>Yes</td>\n",
       "      <td>No</td>\n",
       "      <td>No</td>\n",
       "      <td>No</td>\n",
       "      <td>No</td>\n",
       "      <td>3</td>\n",
       "      <td>Yes</td>\n",
       "      <td>3</td>\n",
       "      <td>29.85</td>\n",
       "      <td>29.85</td>\n",
       "      <td>No</td>\n",
       "    </tr>\n",
       "    <tr>\n",
       "      <th>1</th>\n",
       "      <td>Male</td>\n",
       "      <td>0</td>\n",
       "      <td>No</td>\n",
       "      <td>No</td>\n",
       "      <td>34</td>\n",
       "      <td>Yes</td>\n",
       "      <td>No</td>\n",
       "      <td>2</td>\n",
       "      <td>Yes</td>\n",
       "      <td>No</td>\n",
       "      <td>Yes</td>\n",
       "      <td>No</td>\n",
       "      <td>No</td>\n",
       "      <td>No</td>\n",
       "      <td>2</td>\n",
       "      <td>No</td>\n",
       "      <td>4</td>\n",
       "      <td>56.95</td>\n",
       "      <td>1889.5</td>\n",
       "      <td>No</td>\n",
       "    </tr>\n",
       "    <tr>\n",
       "      <th>2</th>\n",
       "      <td>Male</td>\n",
       "      <td>0</td>\n",
       "      <td>No</td>\n",
       "      <td>No</td>\n",
       "      <td>2</td>\n",
       "      <td>Yes</td>\n",
       "      <td>No</td>\n",
       "      <td>2</td>\n",
       "      <td>Yes</td>\n",
       "      <td>Yes</td>\n",
       "      <td>No</td>\n",
       "      <td>No</td>\n",
       "      <td>No</td>\n",
       "      <td>No</td>\n",
       "      <td>3</td>\n",
       "      <td>Yes</td>\n",
       "      <td>4</td>\n",
       "      <td>53.85</td>\n",
       "      <td>108.15</td>\n",
       "      <td>Yes</td>\n",
       "    </tr>\n",
       "    <tr>\n",
       "      <th>3</th>\n",
       "      <td>Male</td>\n",
       "      <td>0</td>\n",
       "      <td>No</td>\n",
       "      <td>No</td>\n",
       "      <td>45</td>\n",
       "      <td>No</td>\n",
       "      <td>No phone service</td>\n",
       "      <td>2</td>\n",
       "      <td>Yes</td>\n",
       "      <td>No</td>\n",
       "      <td>Yes</td>\n",
       "      <td>Yes</td>\n",
       "      <td>No</td>\n",
       "      <td>No</td>\n",
       "      <td>2</td>\n",
       "      <td>No</td>\n",
       "      <td>1</td>\n",
       "      <td>42.30</td>\n",
       "      <td>1840.75</td>\n",
       "      <td>No</td>\n",
       "    </tr>\n",
       "    <tr>\n",
       "      <th>4</th>\n",
       "      <td>Female</td>\n",
       "      <td>0</td>\n",
       "      <td>No</td>\n",
       "      <td>No</td>\n",
       "      <td>2</td>\n",
       "      <td>Yes</td>\n",
       "      <td>No</td>\n",
       "      <td>1</td>\n",
       "      <td>No</td>\n",
       "      <td>No</td>\n",
       "      <td>No</td>\n",
       "      <td>No</td>\n",
       "      <td>No</td>\n",
       "      <td>No</td>\n",
       "      <td>3</td>\n",
       "      <td>Yes</td>\n",
       "      <td>3</td>\n",
       "      <td>70.70</td>\n",
       "      <td>151.65</td>\n",
       "      <td>Yes</td>\n",
       "    </tr>\n",
       "  </tbody>\n",
       "</table>\n",
       "</div>"
      ],
      "text/plain": [
       "   gender  SeniorCitizen Partner Dependents  tenure PhoneService  \\\n",
       "0  Female              0     Yes         No       1           No   \n",
       "1    Male              0      No         No      34          Yes   \n",
       "2    Male              0      No         No       2          Yes   \n",
       "3    Male              0      No         No      45           No   \n",
       "4  Female              0      No         No       2          Yes   \n",
       "\n",
       "      MultipleLines  InternetService OnlineSecurity OnlineBackup  \\\n",
       "0  No phone service                2             No          Yes   \n",
       "1                No                2            Yes           No   \n",
       "2                No                2            Yes          Yes   \n",
       "3  No phone service                2            Yes           No   \n",
       "4                No                1             No           No   \n",
       "\n",
       "  DeviceProtection TechSupport StreamingTV StreamingMovies  Contract  \\\n",
       "0               No          No          No              No         3   \n",
       "1              Yes          No          No              No         2   \n",
       "2               No          No          No              No         3   \n",
       "3              Yes         Yes          No              No         2   \n",
       "4               No          No          No              No         3   \n",
       "\n",
       "  PaperlessBilling  PaymentMethod  MonthlyCharges TotalCharges Churn  \n",
       "0              Yes              3           29.85        29.85    No  \n",
       "1               No              4           56.95       1889.5    No  \n",
       "2              Yes              4           53.85       108.15   Yes  \n",
       "3               No              1           42.30      1840.75    No  \n",
       "4              Yes              3           70.70       151.65   Yes  "
      ]
     },
     "execution_count": 6,
     "metadata": {},
     "output_type": "execute_result"
    }
   ],
   "source": [
    "c.replace({'PaymentMethod': {\"Electronic check\":3,\"Mailed check\":4,\"Bank transfer (automatic)\":1,\"Credit card (automatic)\":2},\n",
    "            'Contract':{\"Month-to-month\":3,\"Two year\": 1,\"One year\": 2},\n",
    "            'InternetService':{\"Fiber optic\":1,\"DSL\":2,\"No\":0}}, inplace = True)\n",
    "c.head()\n",
    "\n",
    "# conversion of non-numeric column to numeric for an ordinal data"
   ]
  },
  {
   "cell_type": "markdown",
   "id": "f8231760",
   "metadata": {},
   "source": [
    "###### - Converting the non-numeric data to numeric using `LabelEncoder`"
   ]
  },
  {
   "cell_type": "code",
   "execution_count": 7,
   "id": "72ab0011",
   "metadata": {},
   "outputs": [],
   "source": [
    "from sklearn.preprocessing import LabelEncoder\n",
    "le = LabelEncoder()"
   ]
  },
  {
   "cell_type": "code",
   "execution_count": 8,
   "id": "d142b0a0",
   "metadata": {},
   "outputs": [
    {
     "data": {
      "text/html": [
       "<div>\n",
       "<style scoped>\n",
       "    .dataframe tbody tr th:only-of-type {\n",
       "        vertical-align: middle;\n",
       "    }\n",
       "\n",
       "    .dataframe tbody tr th {\n",
       "        vertical-align: top;\n",
       "    }\n",
       "\n",
       "    .dataframe thead th {\n",
       "        text-align: right;\n",
       "    }\n",
       "</style>\n",
       "<table border=\"1\" class=\"dataframe\">\n",
       "  <thead>\n",
       "    <tr style=\"text-align: right;\">\n",
       "      <th></th>\n",
       "      <th>gender</th>\n",
       "      <th>Partner</th>\n",
       "      <th>Dependents</th>\n",
       "      <th>PhoneService</th>\n",
       "      <th>MultipleLines</th>\n",
       "      <th>OnlineSecurity</th>\n",
       "      <th>OnlineBackup</th>\n",
       "      <th>DeviceProtection</th>\n",
       "      <th>TechSupport</th>\n",
       "      <th>StreamingTV</th>\n",
       "      <th>StreamingMovies</th>\n",
       "      <th>PaperlessBilling</th>\n",
       "      <th>TotalCharges</th>\n",
       "      <th>Churn</th>\n",
       "    </tr>\n",
       "  </thead>\n",
       "  <tbody>\n",
       "    <tr>\n",
       "      <th>0</th>\n",
       "      <td>Female</td>\n",
       "      <td>Yes</td>\n",
       "      <td>No</td>\n",
       "      <td>No</td>\n",
       "      <td>No phone service</td>\n",
       "      <td>No</td>\n",
       "      <td>Yes</td>\n",
       "      <td>No</td>\n",
       "      <td>No</td>\n",
       "      <td>No</td>\n",
       "      <td>No</td>\n",
       "      <td>Yes</td>\n",
       "      <td>29.85</td>\n",
       "      <td>No</td>\n",
       "    </tr>\n",
       "    <tr>\n",
       "      <th>1</th>\n",
       "      <td>Male</td>\n",
       "      <td>No</td>\n",
       "      <td>No</td>\n",
       "      <td>Yes</td>\n",
       "      <td>No</td>\n",
       "      <td>Yes</td>\n",
       "      <td>No</td>\n",
       "      <td>Yes</td>\n",
       "      <td>No</td>\n",
       "      <td>No</td>\n",
       "      <td>No</td>\n",
       "      <td>No</td>\n",
       "      <td>1889.5</td>\n",
       "      <td>No</td>\n",
       "    </tr>\n",
       "    <tr>\n",
       "      <th>2</th>\n",
       "      <td>Male</td>\n",
       "      <td>No</td>\n",
       "      <td>No</td>\n",
       "      <td>Yes</td>\n",
       "      <td>No</td>\n",
       "      <td>Yes</td>\n",
       "      <td>Yes</td>\n",
       "      <td>No</td>\n",
       "      <td>No</td>\n",
       "      <td>No</td>\n",
       "      <td>No</td>\n",
       "      <td>Yes</td>\n",
       "      <td>108.15</td>\n",
       "      <td>Yes</td>\n",
       "    </tr>\n",
       "    <tr>\n",
       "      <th>3</th>\n",
       "      <td>Male</td>\n",
       "      <td>No</td>\n",
       "      <td>No</td>\n",
       "      <td>No</td>\n",
       "      <td>No phone service</td>\n",
       "      <td>Yes</td>\n",
       "      <td>No</td>\n",
       "      <td>Yes</td>\n",
       "      <td>Yes</td>\n",
       "      <td>No</td>\n",
       "      <td>No</td>\n",
       "      <td>No</td>\n",
       "      <td>1840.75</td>\n",
       "      <td>No</td>\n",
       "    </tr>\n",
       "    <tr>\n",
       "      <th>4</th>\n",
       "      <td>Female</td>\n",
       "      <td>No</td>\n",
       "      <td>No</td>\n",
       "      <td>Yes</td>\n",
       "      <td>No</td>\n",
       "      <td>No</td>\n",
       "      <td>No</td>\n",
       "      <td>No</td>\n",
       "      <td>No</td>\n",
       "      <td>No</td>\n",
       "      <td>No</td>\n",
       "      <td>Yes</td>\n",
       "      <td>151.65</td>\n",
       "      <td>Yes</td>\n",
       "    </tr>\n",
       "    <tr>\n",
       "      <th>...</th>\n",
       "      <td>...</td>\n",
       "      <td>...</td>\n",
       "      <td>...</td>\n",
       "      <td>...</td>\n",
       "      <td>...</td>\n",
       "      <td>...</td>\n",
       "      <td>...</td>\n",
       "      <td>...</td>\n",
       "      <td>...</td>\n",
       "      <td>...</td>\n",
       "      <td>...</td>\n",
       "      <td>...</td>\n",
       "      <td>...</td>\n",
       "      <td>...</td>\n",
       "    </tr>\n",
       "    <tr>\n",
       "      <th>7038</th>\n",
       "      <td>Male</td>\n",
       "      <td>Yes</td>\n",
       "      <td>Yes</td>\n",
       "      <td>Yes</td>\n",
       "      <td>Yes</td>\n",
       "      <td>Yes</td>\n",
       "      <td>No</td>\n",
       "      <td>Yes</td>\n",
       "      <td>Yes</td>\n",
       "      <td>Yes</td>\n",
       "      <td>Yes</td>\n",
       "      <td>Yes</td>\n",
       "      <td>1990.5</td>\n",
       "      <td>No</td>\n",
       "    </tr>\n",
       "    <tr>\n",
       "      <th>7039</th>\n",
       "      <td>Female</td>\n",
       "      <td>Yes</td>\n",
       "      <td>Yes</td>\n",
       "      <td>Yes</td>\n",
       "      <td>Yes</td>\n",
       "      <td>No</td>\n",
       "      <td>Yes</td>\n",
       "      <td>Yes</td>\n",
       "      <td>No</td>\n",
       "      <td>Yes</td>\n",
       "      <td>Yes</td>\n",
       "      <td>Yes</td>\n",
       "      <td>7362.9</td>\n",
       "      <td>No</td>\n",
       "    </tr>\n",
       "    <tr>\n",
       "      <th>7040</th>\n",
       "      <td>Female</td>\n",
       "      <td>Yes</td>\n",
       "      <td>Yes</td>\n",
       "      <td>No</td>\n",
       "      <td>No phone service</td>\n",
       "      <td>Yes</td>\n",
       "      <td>No</td>\n",
       "      <td>No</td>\n",
       "      <td>No</td>\n",
       "      <td>No</td>\n",
       "      <td>No</td>\n",
       "      <td>Yes</td>\n",
       "      <td>346.45</td>\n",
       "      <td>No</td>\n",
       "    </tr>\n",
       "    <tr>\n",
       "      <th>7041</th>\n",
       "      <td>Male</td>\n",
       "      <td>Yes</td>\n",
       "      <td>No</td>\n",
       "      <td>Yes</td>\n",
       "      <td>Yes</td>\n",
       "      <td>No</td>\n",
       "      <td>No</td>\n",
       "      <td>No</td>\n",
       "      <td>No</td>\n",
       "      <td>No</td>\n",
       "      <td>No</td>\n",
       "      <td>Yes</td>\n",
       "      <td>306.6</td>\n",
       "      <td>Yes</td>\n",
       "    </tr>\n",
       "    <tr>\n",
       "      <th>7042</th>\n",
       "      <td>Male</td>\n",
       "      <td>No</td>\n",
       "      <td>No</td>\n",
       "      <td>Yes</td>\n",
       "      <td>No</td>\n",
       "      <td>Yes</td>\n",
       "      <td>No</td>\n",
       "      <td>Yes</td>\n",
       "      <td>Yes</td>\n",
       "      <td>Yes</td>\n",
       "      <td>Yes</td>\n",
       "      <td>Yes</td>\n",
       "      <td>6844.5</td>\n",
       "      <td>No</td>\n",
       "    </tr>\n",
       "  </tbody>\n",
       "</table>\n",
       "<p>7043 rows × 14 columns</p>\n",
       "</div>"
      ],
      "text/plain": [
       "      gender Partner Dependents PhoneService     MultipleLines OnlineSecurity  \\\n",
       "0     Female     Yes         No           No  No phone service             No   \n",
       "1       Male      No         No          Yes                No            Yes   \n",
       "2       Male      No         No          Yes                No            Yes   \n",
       "3       Male      No         No           No  No phone service            Yes   \n",
       "4     Female      No         No          Yes                No             No   \n",
       "...      ...     ...        ...          ...               ...            ...   \n",
       "7038    Male     Yes        Yes          Yes               Yes            Yes   \n",
       "7039  Female     Yes        Yes          Yes               Yes             No   \n",
       "7040  Female     Yes        Yes           No  No phone service            Yes   \n",
       "7041    Male     Yes         No          Yes               Yes             No   \n",
       "7042    Male      No         No          Yes                No            Yes   \n",
       "\n",
       "     OnlineBackup DeviceProtection TechSupport StreamingTV StreamingMovies  \\\n",
       "0             Yes               No          No          No              No   \n",
       "1              No              Yes          No          No              No   \n",
       "2             Yes               No          No          No              No   \n",
       "3              No              Yes         Yes          No              No   \n",
       "4              No               No          No          No              No   \n",
       "...           ...              ...         ...         ...             ...   \n",
       "7038           No              Yes         Yes         Yes             Yes   \n",
       "7039          Yes              Yes          No         Yes             Yes   \n",
       "7040           No               No          No          No              No   \n",
       "7041           No               No          No          No              No   \n",
       "7042           No              Yes         Yes         Yes             Yes   \n",
       "\n",
       "     PaperlessBilling TotalCharges Churn  \n",
       "0                 Yes        29.85    No  \n",
       "1                  No       1889.5    No  \n",
       "2                 Yes       108.15   Yes  \n",
       "3                  No      1840.75    No  \n",
       "4                 Yes       151.65   Yes  \n",
       "...               ...          ...   ...  \n",
       "7038              Yes       1990.5    No  \n",
       "7039              Yes       7362.9    No  \n",
       "7040              Yes       346.45    No  \n",
       "7041              Yes        306.6   Yes  \n",
       "7042              Yes       6844.5    No  \n",
       "\n",
       "[7043 rows x 14 columns]"
      ]
     },
     "execution_count": 8,
     "metadata": {},
     "output_type": "execute_result"
    }
   ],
   "source": [
    "c[c.select_dtypes(include = 'object').columns]"
   ]
  },
  {
   "cell_type": "code",
   "execution_count": 9,
   "id": "6f526b4c",
   "metadata": {},
   "outputs": [],
   "source": [
    "c[c.select_dtypes(include = 'object').columns] = c[c.select_dtypes(include = 'object').columns].apply(le.fit_transform)"
   ]
  },
  {
   "cell_type": "code",
   "execution_count": 10,
   "id": "4eb3225d",
   "metadata": {},
   "outputs": [
    {
     "data": {
      "text/html": [
       "<div>\n",
       "<style scoped>\n",
       "    .dataframe tbody tr th:only-of-type {\n",
       "        vertical-align: middle;\n",
       "    }\n",
       "\n",
       "    .dataframe tbody tr th {\n",
       "        vertical-align: top;\n",
       "    }\n",
       "\n",
       "    .dataframe thead th {\n",
       "        text-align: right;\n",
       "    }\n",
       "</style>\n",
       "<table border=\"1\" class=\"dataframe\">\n",
       "  <thead>\n",
       "    <tr style=\"text-align: right;\">\n",
       "      <th></th>\n",
       "      <th>gender</th>\n",
       "      <th>SeniorCitizen</th>\n",
       "      <th>Partner</th>\n",
       "      <th>Dependents</th>\n",
       "      <th>tenure</th>\n",
       "      <th>PhoneService</th>\n",
       "      <th>MultipleLines</th>\n",
       "      <th>InternetService</th>\n",
       "      <th>OnlineSecurity</th>\n",
       "      <th>OnlineBackup</th>\n",
       "      <th>DeviceProtection</th>\n",
       "      <th>TechSupport</th>\n",
       "      <th>StreamingTV</th>\n",
       "      <th>StreamingMovies</th>\n",
       "      <th>Contract</th>\n",
       "      <th>PaperlessBilling</th>\n",
       "      <th>PaymentMethod</th>\n",
       "      <th>MonthlyCharges</th>\n",
       "      <th>TotalCharges</th>\n",
       "      <th>Churn</th>\n",
       "    </tr>\n",
       "  </thead>\n",
       "  <tbody>\n",
       "    <tr>\n",
       "      <th>0</th>\n",
       "      <td>0</td>\n",
       "      <td>0</td>\n",
       "      <td>1</td>\n",
       "      <td>0</td>\n",
       "      <td>1</td>\n",
       "      <td>0</td>\n",
       "      <td>1</td>\n",
       "      <td>2</td>\n",
       "      <td>0</td>\n",
       "      <td>2</td>\n",
       "      <td>0</td>\n",
       "      <td>0</td>\n",
       "      <td>0</td>\n",
       "      <td>0</td>\n",
       "      <td>3</td>\n",
       "      <td>1</td>\n",
       "      <td>3</td>\n",
       "      <td>29.85</td>\n",
       "      <td>2505</td>\n",
       "      <td>0</td>\n",
       "    </tr>\n",
       "    <tr>\n",
       "      <th>1</th>\n",
       "      <td>1</td>\n",
       "      <td>0</td>\n",
       "      <td>0</td>\n",
       "      <td>0</td>\n",
       "      <td>34</td>\n",
       "      <td>1</td>\n",
       "      <td>0</td>\n",
       "      <td>2</td>\n",
       "      <td>2</td>\n",
       "      <td>0</td>\n",
       "      <td>2</td>\n",
       "      <td>0</td>\n",
       "      <td>0</td>\n",
       "      <td>0</td>\n",
       "      <td>2</td>\n",
       "      <td>0</td>\n",
       "      <td>4</td>\n",
       "      <td>56.95</td>\n",
       "      <td>1466</td>\n",
       "      <td>0</td>\n",
       "    </tr>\n",
       "    <tr>\n",
       "      <th>2</th>\n",
       "      <td>1</td>\n",
       "      <td>0</td>\n",
       "      <td>0</td>\n",
       "      <td>0</td>\n",
       "      <td>2</td>\n",
       "      <td>1</td>\n",
       "      <td>0</td>\n",
       "      <td>2</td>\n",
       "      <td>2</td>\n",
       "      <td>2</td>\n",
       "      <td>0</td>\n",
       "      <td>0</td>\n",
       "      <td>0</td>\n",
       "      <td>0</td>\n",
       "      <td>3</td>\n",
       "      <td>1</td>\n",
       "      <td>4</td>\n",
       "      <td>53.85</td>\n",
       "      <td>157</td>\n",
       "      <td>1</td>\n",
       "    </tr>\n",
       "    <tr>\n",
       "      <th>3</th>\n",
       "      <td>1</td>\n",
       "      <td>0</td>\n",
       "      <td>0</td>\n",
       "      <td>0</td>\n",
       "      <td>45</td>\n",
       "      <td>0</td>\n",
       "      <td>1</td>\n",
       "      <td>2</td>\n",
       "      <td>2</td>\n",
       "      <td>0</td>\n",
       "      <td>2</td>\n",
       "      <td>2</td>\n",
       "      <td>0</td>\n",
       "      <td>0</td>\n",
       "      <td>2</td>\n",
       "      <td>0</td>\n",
       "      <td>1</td>\n",
       "      <td>42.30</td>\n",
       "      <td>1400</td>\n",
       "      <td>0</td>\n",
       "    </tr>\n",
       "    <tr>\n",
       "      <th>4</th>\n",
       "      <td>0</td>\n",
       "      <td>0</td>\n",
       "      <td>0</td>\n",
       "      <td>0</td>\n",
       "      <td>2</td>\n",
       "      <td>1</td>\n",
       "      <td>0</td>\n",
       "      <td>1</td>\n",
       "      <td>0</td>\n",
       "      <td>0</td>\n",
       "      <td>0</td>\n",
       "      <td>0</td>\n",
       "      <td>0</td>\n",
       "      <td>0</td>\n",
       "      <td>3</td>\n",
       "      <td>1</td>\n",
       "      <td>3</td>\n",
       "      <td>70.70</td>\n",
       "      <td>925</td>\n",
       "      <td>1</td>\n",
       "    </tr>\n",
       "  </tbody>\n",
       "</table>\n",
       "</div>"
      ],
      "text/plain": [
       "   gender  SeniorCitizen  Partner  Dependents  tenure  PhoneService  \\\n",
       "0       0              0        1           0       1             0   \n",
       "1       1              0        0           0      34             1   \n",
       "2       1              0        0           0       2             1   \n",
       "3       1              0        0           0      45             0   \n",
       "4       0              0        0           0       2             1   \n",
       "\n",
       "   MultipleLines  InternetService  OnlineSecurity  OnlineBackup  \\\n",
       "0              1                2               0             2   \n",
       "1              0                2               2             0   \n",
       "2              0                2               2             2   \n",
       "3              1                2               2             0   \n",
       "4              0                1               0             0   \n",
       "\n",
       "   DeviceProtection  TechSupport  StreamingTV  StreamingMovies  Contract  \\\n",
       "0                 0            0            0                0         3   \n",
       "1                 2            0            0                0         2   \n",
       "2                 0            0            0                0         3   \n",
       "3                 2            2            0                0         2   \n",
       "4                 0            0            0                0         3   \n",
       "\n",
       "   PaperlessBilling  PaymentMethod  MonthlyCharges  TotalCharges  Churn  \n",
       "0                 1              3           29.85          2505      0  \n",
       "1                 0              4           56.95          1466      0  \n",
       "2                 1              4           53.85           157      1  \n",
       "3                 0              1           42.30          1400      0  \n",
       "4                 1              3           70.70           925      1  "
      ]
     },
     "execution_count": 10,
     "metadata": {},
     "output_type": "execute_result"
    }
   ],
   "source": [
    "c.head()"
   ]
  },
  {
   "cell_type": "markdown",
   "id": "9734e033",
   "metadata": {},
   "source": [
    "### SAMPLING"
   ]
  },
  {
   "cell_type": "markdown",
   "id": "ace12d48",
   "metadata": {},
   "source": [
    "###### - Importing train_test_split from sklearn.model_selection"
   ]
  },
  {
   "cell_type": "code",
   "execution_count": 11,
   "id": "bacd4657",
   "metadata": {},
   "outputs": [],
   "source": [
    "from sklearn.model_selection import train_test_split"
   ]
  },
  {
   "cell_type": "markdown",
   "id": "8df7951a",
   "metadata": {},
   "source": [
    "###### - Spliting The Data Into Train And Test Data Set"
   ]
  },
  {
   "cell_type": "code",
   "execution_count": 12,
   "id": "7aa680ce",
   "metadata": {},
   "outputs": [
    {
     "data": {
      "text/plain": [
       "((7043, 20), (4930, 20), (2113, 20))"
      ]
     },
     "execution_count": 12,
     "metadata": {},
     "output_type": "execute_result"
    }
   ],
   "source": [
    "train_c , test_c = train_test_split(c, test_size = 0.3)\n",
    "\n",
    "c.shape, train_c.shape, test_c.shape"
   ]
  },
  {
   "cell_type": "markdown",
   "id": "0defbcb5",
   "metadata": {},
   "source": [
    "###### - Creating The X & Y Variables From The Dataset"
   ]
  },
  {
   "cell_type": "code",
   "execution_count": 13,
   "id": "195c944b",
   "metadata": {},
   "outputs": [],
   "source": [
    "# Seperating the x and y variables from the train data set\n",
    "\n",
    "train_c_x = train_c.iloc[:,0:-1]\n",
    "train_c_y = train_c.iloc[:,-1]\n",
    "\n",
    "# Seperating the x and y variables from the train data set\n",
    "\n",
    "test_c_x = test_c.iloc[:,0:-1]\n",
    "test_c_y = test_c.iloc[:,-1]"
   ]
  },
  {
   "cell_type": "code",
   "execution_count": 14,
   "id": "ca661ed2",
   "metadata": {},
   "outputs": [
    {
     "name": "stdout",
     "output_type": "stream",
     "text": [
      "x - variables   y - variables\n",
      "(4930, 19)       (4930,)\n",
      "(2113, 19)       (2113,)\n"
     ]
    }
   ],
   "source": [
    "print(\"x - variables \", \" y - variables\")\n",
    "print(train_c_x.shape , \"     \",train_c_y.shape)\n",
    "print(test_c_x.shape , \"     \",test_c_y.shape)\n",
    "\n"
   ]
  },
  {
   "cell_type": "markdown",
   "id": "829ea0ad",
   "metadata": {},
   "source": [
    "### Logistic Regression Model Building"
   ]
  },
  {
   "cell_type": "markdown",
   "id": "5a9f0a33",
   "metadata": {},
   "source": [
    "###### - Importing `LinearRegression` form `sklearn.linear_model`"
   ]
  },
  {
   "cell_type": "raw",
   "id": "fac63b86",
   "metadata": {},
   "source": [
    "from sklearn.linear_model import LogisticRegression"
   ]
  },
  {
   "cell_type": "raw",
   "id": "3d7e8c4c",
   "metadata": {},
   "source": [
    "logreg = LogisticRegression()"
   ]
  },
  {
   "cell_type": "raw",
   "id": "224e3aa0",
   "metadata": {},
   "source": [
    "logreg.fit(train_c_x,train_c_y)"
   ]
  },
  {
   "cell_type": "markdown",
   "id": "7b83be1d",
   "metadata": {},
   "source": [
    "###### - Prediction"
   ]
  },
  {
   "cell_type": "raw",
   "id": "238e0928",
   "metadata": {},
   "source": [
    "pred = logreg.predict(test_c_x)\n",
    "pred"
   ]
  },
  {
   "cell_type": "markdown",
   "id": "adbe0f03",
   "metadata": {},
   "source": [
    "###### - Confusion Matrix"
   ]
  },
  {
   "cell_type": "markdown",
   "id": "27b9fc1b",
   "metadata": {},
   "source": [
    "###### - Importing `confusion_matrix` from `sklearn.metrics`"
   ]
  },
  {
   "cell_type": "raw",
   "id": "5bddf361",
   "metadata": {},
   "source": [
    "from sklearn.metrics import confusion_matrix"
   ]
  },
  {
   "cell_type": "raw",
   "id": "24a0af64",
   "metadata": {},
   "source": [
    "tab1 = confusion_matrix(test_c_y,pred)\n",
    "tab1"
   ]
  },
  {
   "cell_type": "markdown",
   "id": "af01c521",
   "metadata": {},
   "source": [
    "###### - Accuracy"
   ]
  },
  {
   "cell_type": "raw",
   "id": "0bb34357",
   "metadata": {},
   "source": [
    "acc = tab1.diagonal().sum() * 100 / tab1.sum()\n",
    "acc"
   ]
  },
  {
   "cell_type": "markdown",
   "id": "bab339d0",
   "metadata": {},
   "source": [
    "###### - True Positive Ratio [ TPR ]`"
   ]
  },
  {
   "cell_type": "markdown",
   "id": "1cf7f6ca",
   "metadata": {},
   "source": [
    "###### - Importing `recall_score` from `sklearn.metrics`"
   ]
  },
  {
   "cell_type": "raw",
   "id": "8ba5fda6",
   "metadata": {},
   "source": [
    "from sklearn.metrics import recall_score"
   ]
  },
  {
   "cell_type": "raw",
   "id": "302d8df9",
   "metadata": {},
   "source": [
    "TPR = recall_score(test_c_y,pred)*100\n",
    "TPR"
   ]
  },
  {
   "cell_type": "markdown",
   "id": "00ae992d",
   "metadata": {},
   "source": [
    "###### - False Positive Ratio [ FPR ]"
   ]
  },
  {
   "cell_type": "raw",
   "id": "8eb3f129",
   "metadata": {},
   "source": [
    "FPR = tab1[0,1] * 100 / tab1[0].sum()\n",
    "FPR"
   ]
  },
  {
   "cell_type": "markdown",
   "id": "ad879a3c",
   "metadata": {},
   "source": [
    "###### - Precision"
   ]
  },
  {
   "cell_type": "markdown",
   "id": "ddd0de4c",
   "metadata": {},
   "source": [
    "###### - Importing `precision_score` from `sklearn.metrics`"
   ]
  },
  {
   "cell_type": "raw",
   "id": "4b9550ea",
   "metadata": {},
   "source": [
    "from sklearn.metrics import precision_score"
   ]
  },
  {
   "cell_type": "raw",
   "id": "236db3d7",
   "metadata": {},
   "source": [
    "precision = precision_score(test_c_y,pred)*100\n",
    "precision"
   ]
  },
  {
   "cell_type": "markdown",
   "id": "231c59f0",
   "metadata": {},
   "source": [
    "###### - F1-Score"
   ]
  },
  {
   "cell_type": "markdown",
   "id": "973f4a9b",
   "metadata": {},
   "source": [
    "###### - Importing `f1_score` from `sklearn.metrics`"
   ]
  },
  {
   "cell_type": "raw",
   "id": "e4b8e587",
   "metadata": {},
   "source": [
    "from sklearn.metrics import f1_score"
   ]
  },
  {
   "cell_type": "raw",
   "id": "8de4f277",
   "metadata": {},
   "source": [
    "f_score = f1_score(test_c_y,pred)*100\n",
    "f_score"
   ]
  },
  {
   "cell_type": "markdown",
   "id": "3de0f9df",
   "metadata": {},
   "source": [
    "### Area Under Reciving Operating Curve [ AUROC ]"
   ]
  },
  {
   "cell_type": "markdown",
   "id": "1124a00c",
   "metadata": {},
   "source": [
    "###### - Importing `roc_auc_score & roc_curve` from `sklearn.metrics`"
   ]
  },
  {
   "cell_type": "raw",
   "id": "da11d048",
   "metadata": {},
   "source": [
    "from sklearn.metrics import roc_auc_score, roc_curve"
   ]
  },
  {
   "cell_type": "raw",
   "id": "036b07e4",
   "metadata": {},
   "source": [
    "pred_pro = logreg.predict_proba(test_bc_x)\n",
    "pred_pro "
   ]
  },
  {
   "cell_type": "markdown",
   "id": "7e95bc53",
   "metadata": {},
   "source": [
    "###### - Value of area under the curve"
   ]
  },
  {
   "cell_type": "raw",
   "id": "96f9f6d9",
   "metadata": {},
   "source": [
    "roc_auc_score(test_bc_y, pred_pro[:,1])"
   ]
  },
  {
   "cell_type": "raw",
   "id": "bd6c758b",
   "metadata": {},
   "source": [
    "fpr,tpr,threshold = roc_curve(test_bc_y, pred_pro[:,1])"
   ]
  },
  {
   "cell_type": "raw",
   "id": "6557cd26",
   "metadata": {},
   "source": [
    "import matplotlib.pylab  as plt\n",
    "plt.plot(fpr,tpr,color = 'r', marker = \".\")\n",
    "plt.xlabel(\"FPR -->>\")\n",
    "plt.ylabel(\"TPR -->>\")\n",
    "plt.title(\"ROC curve\")\n",
    "plt.grid()\n",
    "plt.text(x = .2, y = .1, s = [\"Area under curve is\", roc_auc_score(test_bc_y, pred_pro[:,1])])"
   ]
  },
  {
   "cell_type": "code",
   "execution_count": null,
   "id": "f3935ab7",
   "metadata": {},
   "outputs": [],
   "source": []
  },
  {
   "cell_type": "code",
   "execution_count": 17,
   "id": "0a981c29",
   "metadata": {},
   "outputs": [
    {
     "name": "stdout",
     "output_type": "stream",
     "text": [
      "-->> Logistic Regression Algorithm\n",
      "**********************************\n",
      "Confusion Matrix\n",
      "-------------------------------------------------- \n",
      "           benign  malignant\n",
      "benign       1383        179\n",
      "malignant     259        292\n",
      "---------------------------------------------------\n",
      "Accuracy =  79.27117841930904\n",
      "TPR = 52.994555353901994\n",
      "FPR =  11.45966709346991\n",
      "precision =  61.995753715498935\n",
      "F1-Score =  57.14285714285714\n"
     ]
    },
    {
     "name": "stderr",
     "output_type": "stream",
     "text": [
      "C:\\Users\\salun\\anaconda3\\lib\\site-packages\\sklearn\\linear_model\\_logistic.py:814: ConvergenceWarning: lbfgs failed to converge (status=1):\n",
      "STOP: TOTAL NO. of ITERATIONS REACHED LIMIT.\n",
      "\n",
      "Increase the number of iterations (max_iter) or scale the data as shown in:\n",
      "    https://scikit-learn.org/stable/modules/preprocessing.html\n",
      "Please also refer to the documentation for alternative solver options:\n",
      "    https://scikit-learn.org/stable/modules/linear_model.html#logistic-regression\n",
      "  n_iter_i = _check_optimize_result(\n"
     ]
    },
    {
     "name": "stdout",
     "output_type": "stream",
     "text": [
      "AUROC =  0.8241016798696817\n",
      "\n",
      "Area Under Receiver Operating Characteristic Curve [ AUROC ]\n",
      "\n",
      "\n",
      "\n"
     ]
    },
    {
     "data": {
      "image/png": "[encoded data removed]",
      "text/plain": [
       "<Figure size 432x288 with 1 Axes>"
      ]
     },
     "metadata": {
      "needs_background": "light"
     },
     "output_type": "display_data"
    }
   ],
   "source": [
    "print(\"-->> Logistic Regression Algorithm\")\n",
    "print(\"**********************************\")\n",
    "from sklearn.linear_model import LogisticRegression\n",
    "logreg = LogisticRegression()\n",
    "logreg.fit(train_c_x,train_c_y)\n",
    "pred_logreg = logreg.predict(test_c_x)\n",
    "from sklearn.metrics import confusion_matrix\n",
    "print(\"Confusion Matrix\")\n",
    "print(\"-------------------------------------------------- \")\n",
    "tab_logreg = confusion_matrix(test_c_y,pred_logreg)\n",
    "cm_logreg = pd.DataFrame(tab_logreg, columns = ['benign','malignant'], index = ['benign','malignant'])\n",
    "print(cm_logreg)\n",
    "print(\"---------------------------------------------------\")\n",
    "acc_logreg = tab_logreg.diagonal().sum() * 100 / tab_logreg.sum()\n",
    "print(\"Accuracy = \",acc_logreg)\n",
    "from sklearn.metrics import recall_score, precision_score, f1_score\n",
    "TPR_logreg = recall_score(test_c_y,pred_logreg)*100\n",
    "print(\"TPR =\", TPR_logreg)\n",
    "FPR_logreg = tab_logreg[0][1] * 100 / tab_logreg[0].sum()\n",
    "print(\"FPR = \",FPR_logreg)\n",
    "precision_logreg = precision_score(test_c_y,pred_logreg)*100\n",
    "print(\"precision = \",precision_logreg)\n",
    "f_score_logreg = f1_score(test_c_y,pred_logreg)*100\n",
    "print(\"F1-Score = \",f_score_logreg)\n",
    "from sklearn.metrics import roc_auc_score, roc_curve\n",
    "pred_pro_logreg = logreg.predict_proba(test_c_x)\n",
    "AUROC_logreg = roc_auc_score(test_c_y, pred_pro_logreg[:,1])\n",
    "print(\"AUROC = \", AUROC_logreg)\n",
    "fpr_logreg,tpr_logreg,threshold_logreg = roc_curve(test_c_y, pred_pro_logreg[:,1])\n",
    "import matplotlib.pylab  as plt\n",
    "print(\"\")\n",
    "print(\"Area Under Receiver Operating Characteristic Curve [ AUROC ]\")\n",
    "print(\"\")\n",
    "plt.plot(fpr_logreg,tpr_logreg,color = 'r')\n",
    "plt.xlabel(\"FPR -->>\")\n",
    "plt.ylabel(\"TPR -->>\")\n",
    "plt.title(\"ROC curve\")\n",
    "plt.grid()\n",
    "plt.text(x = .2, y = .1, s = [\"Area under curve is \",AUROC_logreg])\n",
    "print(\"\")\n",
    "print(\"\")\n"
   ]
  },
  {
   "cell_type": "code",
   "execution_count": null,
   "id": "a302a206",
   "metadata": {},
   "outputs": [],
   "source": []
  }
 ],
 "metadata": {
  "kernelspec": {
   "display_name": "Python 3 (ipykernel)",
   "language": "python",
   "name": "python3"
  },
  "language_info": {
   "codemirror_mode": {
    "name": "ipython",
    "version": 3
   },
   "file_extension": ".py",
   "mimetype": "text/x-python",
   "name": "python",
   "nbconvert_exporter": "python",
   "pygments_lexer": "ipython3",
   "version": "3.9.12"
  }
 },
 "nbformat": 4,
 "nbformat_minor": 5
}
