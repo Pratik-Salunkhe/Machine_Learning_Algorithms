{
 "cells": [
  {
   "cell_type": "markdown",
   "id": "3fd49e10",
   "metadata": {},
   "source": [
    "# K-NEAREST NEIGHBOUR MODEL BUILDING ON `Churn` DATASET"
   ]
  },
  {
   "cell_type": "markdown",
   "id": "abe0991e",
   "metadata": {},
   "source": [
    "###### - Importing pandas Library"
   ]
  },
  {
   "cell_type": "code",
   "execution_count": 1,
   "id": "7335b321",
   "metadata": {},
   "outputs": [],
   "source": [
    "import pandas as pd"
   ]
  },
  {
   "cell_type": "markdown",
   "id": "af159655",
   "metadata": {},
   "source": [
    "###### - Reading .csv file"
   ]
  },
  {
   "cell_type": "code",
   "execution_count": 2,
   "id": "019fbf40",
   "metadata": {},
   "outputs": [
    {
     "data": {
      "text/html": [
       "<div>\n",
       "<style scoped>\n",
       "    .dataframe tbody tr th:only-of-type {\n",
       "        vertical-align: middle;\n",
       "    }\n",
       "\n",
       "    .dataframe tbody tr th {\n",
       "        vertical-align: top;\n",
       "    }\n",
       "\n",
       "    .dataframe thead th {\n",
       "        text-align: right;\n",
       "    }\n",
       "</style>\n",
       "<table border=\"1\" class=\"dataframe\">\n",
       "  <thead>\n",
       "    <tr style=\"text-align: right;\">\n",
       "      <th></th>\n",
       "      <th>customerID</th>\n",
       "      <th>gender</th>\n",
       "      <th>SeniorCitizen</th>\n",
       "      <th>Partner</th>\n",
       "      <th>Dependents</th>\n",
       "      <th>tenure</th>\n",
       "      <th>PhoneService</th>\n",
       "      <th>MultipleLines</th>\n",
       "      <th>InternetService</th>\n",
       "      <th>OnlineSecurity</th>\n",
       "      <th>...</th>\n",
       "      <th>DeviceProtection</th>\n",
       "      <th>TechSupport</th>\n",
       "      <th>StreamingTV</th>\n",
       "      <th>StreamingMovies</th>\n",
       "      <th>Contract</th>\n",
       "      <th>PaperlessBilling</th>\n",
       "      <th>PaymentMethod</th>\n",
       "      <th>MonthlyCharges</th>\n",
       "      <th>TotalCharges</th>\n",
       "      <th>Churn</th>\n",
       "    </tr>\n",
       "  </thead>\n",
       "  <tbody>\n",
       "    <tr>\n",
       "      <th>0</th>\n",
       "      <td>7590-VHVEG</td>\n",
       "      <td>Female</td>\n",
       "      <td>0</td>\n",
       "      <td>Yes</td>\n",
       "      <td>No</td>\n",
       "      <td>1</td>\n",
       "      <td>No</td>\n",
       "      <td>No phone service</td>\n",
       "      <td>DSL</td>\n",
       "      <td>No</td>\n",
       "      <td>...</td>\n",
       "      <td>No</td>\n",
       "      <td>No</td>\n",
       "      <td>No</td>\n",
       "      <td>No</td>\n",
       "      <td>Month-to-month</td>\n",
       "      <td>Yes</td>\n",
       "      <td>Electronic check</td>\n",
       "      <td>29.85</td>\n",
       "      <td>29.85</td>\n",
       "      <td>No</td>\n",
       "    </tr>\n",
       "    <tr>\n",
       "      <th>1</th>\n",
       "      <td>5575-GNVDE</td>\n",
       "      <td>Male</td>\n",
       "      <td>0</td>\n",
       "      <td>No</td>\n",
       "      <td>No</td>\n",
       "      <td>34</td>\n",
       "      <td>Yes</td>\n",
       "      <td>No</td>\n",
       "      <td>DSL</td>\n",
       "      <td>Yes</td>\n",
       "      <td>...</td>\n",
       "      <td>Yes</td>\n",
       "      <td>No</td>\n",
       "      <td>No</td>\n",
       "      <td>No</td>\n",
       "      <td>One year</td>\n",
       "      <td>No</td>\n",
       "      <td>Mailed check</td>\n",
       "      <td>56.95</td>\n",
       "      <td>1889.5</td>\n",
       "      <td>No</td>\n",
       "    </tr>\n",
       "    <tr>\n",
       "      <th>2</th>\n",
       "      <td>3668-QPYBK</td>\n",
       "      <td>Male</td>\n",
       "      <td>0</td>\n",
       "      <td>No</td>\n",
       "      <td>No</td>\n",
       "      <td>2</td>\n",
       "      <td>Yes</td>\n",
       "      <td>No</td>\n",
       "      <td>DSL</td>\n",
       "      <td>Yes</td>\n",
       "      <td>...</td>\n",
       "      <td>No</td>\n",
       "      <td>No</td>\n",
       "      <td>No</td>\n",
       "      <td>No</td>\n",
       "      <td>Month-to-month</td>\n",
       "      <td>Yes</td>\n",
       "      <td>Mailed check</td>\n",
       "      <td>53.85</td>\n",
       "      <td>108.15</td>\n",
       "      <td>Yes</td>\n",
       "    </tr>\n",
       "    <tr>\n",
       "      <th>3</th>\n",
       "      <td>7795-CFOCW</td>\n",
       "      <td>Male</td>\n",
       "      <td>0</td>\n",
       "      <td>No</td>\n",
       "      <td>No</td>\n",
       "      <td>45</td>\n",
       "      <td>No</td>\n",
       "      <td>No phone service</td>\n",
       "      <td>DSL</td>\n",
       "      <td>Yes</td>\n",
       "      <td>...</td>\n",
       "      <td>Yes</td>\n",
       "      <td>Yes</td>\n",
       "      <td>No</td>\n",
       "      <td>No</td>\n",
       "      <td>One year</td>\n",
       "      <td>No</td>\n",
       "      <td>Bank transfer (automatic)</td>\n",
       "      <td>42.30</td>\n",
       "      <td>1840.75</td>\n",
       "      <td>No</td>\n",
       "    </tr>\n",
       "    <tr>\n",
       "      <th>4</th>\n",
       "      <td>9237-HQITU</td>\n",
       "      <td>Female</td>\n",
       "      <td>0</td>\n",
       "      <td>No</td>\n",
       "      <td>No</td>\n",
       "      <td>2</td>\n",
       "      <td>Yes</td>\n",
       "      <td>No</td>\n",
       "      <td>Fiber optic</td>\n",
       "      <td>No</td>\n",
       "      <td>...</td>\n",
       "      <td>No</td>\n",
       "      <td>No</td>\n",
       "      <td>No</td>\n",
       "      <td>No</td>\n",
       "      <td>Month-to-month</td>\n",
       "      <td>Yes</td>\n",
       "      <td>Electronic check</td>\n",
       "      <td>70.70</td>\n",
       "      <td>151.65</td>\n",
       "      <td>Yes</td>\n",
       "    </tr>\n",
       "    <tr>\n",
       "      <th>5</th>\n",
       "      <td>9305-CDSKC</td>\n",
       "      <td>Female</td>\n",
       "      <td>0</td>\n",
       "      <td>No</td>\n",
       "      <td>No</td>\n",
       "      <td>8</td>\n",
       "      <td>Yes</td>\n",
       "      <td>Yes</td>\n",
       "      <td>Fiber optic</td>\n",
       "      <td>No</td>\n",
       "      <td>...</td>\n",
       "      <td>Yes</td>\n",
       "      <td>No</td>\n",
       "      <td>Yes</td>\n",
       "      <td>Yes</td>\n",
       "      <td>Month-to-month</td>\n",
       "      <td>Yes</td>\n",
       "      <td>Electronic check</td>\n",
       "      <td>99.65</td>\n",
       "      <td>820.5</td>\n",
       "      <td>Yes</td>\n",
       "    </tr>\n",
       "  </tbody>\n",
       "</table>\n",
       "<p>6 rows × 21 columns</p>\n",
       "</div>"
      ],
      "text/plain": [
       "   customerID  gender  SeniorCitizen Partner Dependents  tenure PhoneService  \\\n",
       "0  7590-VHVEG  Female              0     Yes         No       1           No   \n",
       "1  5575-GNVDE    Male              0      No         No      34          Yes   \n",
       "2  3668-QPYBK    Male              0      No         No       2          Yes   \n",
       "3  7795-CFOCW    Male              0      No         No      45           No   \n",
       "4  9237-HQITU  Female              0      No         No       2          Yes   \n",
       "5  9305-CDSKC  Female              0      No         No       8          Yes   \n",
       "\n",
       "      MultipleLines InternetService OnlineSecurity  ... DeviceProtection  \\\n",
       "0  No phone service             DSL             No  ...               No   \n",
       "1                No             DSL            Yes  ...              Yes   \n",
       "2                No             DSL            Yes  ...               No   \n",
       "3  No phone service             DSL            Yes  ...              Yes   \n",
       "4                No     Fiber optic             No  ...               No   \n",
       "5               Yes     Fiber optic             No  ...              Yes   \n",
       "\n",
       "  TechSupport StreamingTV StreamingMovies        Contract PaperlessBilling  \\\n",
       "0          No          No              No  Month-to-month              Yes   \n",
       "1          No          No              No        One year               No   \n",
       "2          No          No              No  Month-to-month              Yes   \n",
       "3         Yes          No              No        One year               No   \n",
       "4          No          No              No  Month-to-month              Yes   \n",
       "5          No         Yes             Yes  Month-to-month              Yes   \n",
       "\n",
       "               PaymentMethod MonthlyCharges  TotalCharges Churn  \n",
       "0           Electronic check          29.85         29.85    No  \n",
       "1               Mailed check          56.95        1889.5    No  \n",
       "2               Mailed check          53.85        108.15   Yes  \n",
       "3  Bank transfer (automatic)          42.30       1840.75    No  \n",
       "4           Electronic check          70.70        151.65   Yes  \n",
       "5           Electronic check          99.65         820.5   Yes  \n",
       "\n",
       "[6 rows x 21 columns]"
      ]
     },
     "execution_count": 2,
     "metadata": {},
     "output_type": "execute_result"
    }
   ],
   "source": [
    "c = pd.read_csv(\"Churn.csv\")\n",
    "c.head(6)"
   ]
  },
  {
   "cell_type": "markdown",
   "id": "873c0b5d",
   "metadata": {},
   "source": [
    "### FILLING OF NULL VALUES"
   ]
  },
  {
   "cell_type": "markdown",
   "id": "dff4f160",
   "metadata": {},
   "source": [
    "###### - Checking for the presence of null values in the data"
   ]
  },
  {
   "cell_type": "code",
   "execution_count": 3,
   "id": "73caa848",
   "metadata": {},
   "outputs": [
    {
     "data": {
      "text/plain": [
       "customerID          0\n",
       "gender              0\n",
       "SeniorCitizen       0\n",
       "Partner             0\n",
       "Dependents          0\n",
       "tenure              0\n",
       "PhoneService        0\n",
       "MultipleLines       0\n",
       "InternetService     0\n",
       "OnlineSecurity      0\n",
       "OnlineBackup        0\n",
       "DeviceProtection    0\n",
       "TechSupport         0\n",
       "StreamingTV         0\n",
       "StreamingMovies     0\n",
       "Contract            0\n",
       "PaperlessBilling    0\n",
       "PaymentMethod       0\n",
       "MonthlyCharges      0\n",
       "TotalCharges        0\n",
       "Churn               0\n",
       "dtype: int64"
      ]
     },
     "execution_count": 3,
     "metadata": {},
     "output_type": "execute_result"
    }
   ],
   "source": [
    "c.isnull().sum()"
   ]
  },
  {
   "cell_type": "markdown",
   "id": "a9e6656d",
   "metadata": {},
   "source": [
    "###### - As there is no any null value in dataset"
   ]
  },
  {
   "cell_type": "markdown",
   "id": "9002bc4e",
   "metadata": {},
   "source": [
    "### REMOVING OF UNWANTED COLUMNS"
   ]
  },
  {
   "cell_type": "code",
   "execution_count": 4,
   "id": "f151ce00",
   "metadata": {},
   "outputs": [],
   "source": [
    " c = c.drop('customerID', axis = 1)"
   ]
  },
  {
   "cell_type": "markdown",
   "id": "c8dd62dc",
   "metadata": {},
   "source": [
    "### CONVERSION OF NON-NUMERIC VALUES TO NUMERIC"
   ]
  },
  {
   "cell_type": "code",
   "execution_count": 5,
   "id": "4f88137f",
   "metadata": {},
   "outputs": [
    {
     "data": {
      "text/plain": [
       "Fiber optic    3096\n",
       "DSL            2421\n",
       "No             1526\n",
       "Name: InternetService, dtype: int64"
      ]
     },
     "execution_count": 5,
     "metadata": {},
     "output_type": "execute_result"
    }
   ],
   "source": [
    "c.InternetService.value_counts()  # PaymentMethod,Contract,InternetService"
   ]
  },
  {
   "cell_type": "markdown",
   "id": "ef25abbb",
   "metadata": {},
   "source": [
    "###### - conversion of non-numeric column to numeric for an ordinal data"
   ]
  },
  {
   "cell_type": "code",
   "execution_count": 6,
   "id": "4c733e36",
   "metadata": {},
   "outputs": [
    {
     "data": {
      "text/html": [
       "<div>\n",
       "<style scoped>\n",
       "    .dataframe tbody tr th:only-of-type {\n",
       "        vertical-align: middle;\n",
       "    }\n",
       "\n",
       "    .dataframe tbody tr th {\n",
       "        vertical-align: top;\n",
       "    }\n",
       "\n",
       "    .dataframe thead th {\n",
       "        text-align: right;\n",
       "    }\n",
       "</style>\n",
       "<table border=\"1\" class=\"dataframe\">\n",
       "  <thead>\n",
       "    <tr style=\"text-align: right;\">\n",
       "      <th></th>\n",
       "      <th>gender</th>\n",
       "      <th>SeniorCitizen</th>\n",
       "      <th>Partner</th>\n",
       "      <th>Dependents</th>\n",
       "      <th>tenure</th>\n",
       "      <th>PhoneService</th>\n",
       "      <th>MultipleLines</th>\n",
       "      <th>InternetService</th>\n",
       "      <th>OnlineSecurity</th>\n",
       "      <th>OnlineBackup</th>\n",
       "      <th>DeviceProtection</th>\n",
       "      <th>TechSupport</th>\n",
       "      <th>StreamingTV</th>\n",
       "      <th>StreamingMovies</th>\n",
       "      <th>Contract</th>\n",
       "      <th>PaperlessBilling</th>\n",
       "      <th>PaymentMethod</th>\n",
       "      <th>MonthlyCharges</th>\n",
       "      <th>TotalCharges</th>\n",
       "      <th>Churn</th>\n",
       "    </tr>\n",
       "  </thead>\n",
       "  <tbody>\n",
       "    <tr>\n",
       "      <th>0</th>\n",
       "      <td>Female</td>\n",
       "      <td>0</td>\n",
       "      <td>Yes</td>\n",
       "      <td>No</td>\n",
       "      <td>1</td>\n",
       "      <td>No</td>\n",
       "      <td>No phone service</td>\n",
       "      <td>2</td>\n",
       "      <td>No</td>\n",
       "      <td>Yes</td>\n",
       "      <td>No</td>\n",
       "      <td>No</td>\n",
       "      <td>No</td>\n",
       "      <td>No</td>\n",
       "      <td>3</td>\n",
       "      <td>Yes</td>\n",
       "      <td>3</td>\n",
       "      <td>29.85</td>\n",
       "      <td>29.85</td>\n",
       "      <td>No</td>\n",
       "    </tr>\n",
       "    <tr>\n",
       "      <th>1</th>\n",
       "      <td>Male</td>\n",
       "      <td>0</td>\n",
       "      <td>No</td>\n",
       "      <td>No</td>\n",
       "      <td>34</td>\n",
       "      <td>Yes</td>\n",
       "      <td>No</td>\n",
       "      <td>2</td>\n",
       "      <td>Yes</td>\n",
       "      <td>No</td>\n",
       "      <td>Yes</td>\n",
       "      <td>No</td>\n",
       "      <td>No</td>\n",
       "      <td>No</td>\n",
       "      <td>2</td>\n",
       "      <td>No</td>\n",
       "      <td>4</td>\n",
       "      <td>56.95</td>\n",
       "      <td>1889.5</td>\n",
       "      <td>No</td>\n",
       "    </tr>\n",
       "    <tr>\n",
       "      <th>2</th>\n",
       "      <td>Male</td>\n",
       "      <td>0</td>\n",
       "      <td>No</td>\n",
       "      <td>No</td>\n",
       "      <td>2</td>\n",
       "      <td>Yes</td>\n",
       "      <td>No</td>\n",
       "      <td>2</td>\n",
       "      <td>Yes</td>\n",
       "      <td>Yes</td>\n",
       "      <td>No</td>\n",
       "      <td>No</td>\n",
       "      <td>No</td>\n",
       "      <td>No</td>\n",
       "      <td>3</td>\n",
       "      <td>Yes</td>\n",
       "      <td>4</td>\n",
       "      <td>53.85</td>\n",
       "      <td>108.15</td>\n",
       "      <td>Yes</td>\n",
       "    </tr>\n",
       "    <tr>\n",
       "      <th>3</th>\n",
       "      <td>Male</td>\n",
       "      <td>0</td>\n",
       "      <td>No</td>\n",
       "      <td>No</td>\n",
       "      <td>45</td>\n",
       "      <td>No</td>\n",
       "      <td>No phone service</td>\n",
       "      <td>2</td>\n",
       "      <td>Yes</td>\n",
       "      <td>No</td>\n",
       "      <td>Yes</td>\n",
       "      <td>Yes</td>\n",
       "      <td>No</td>\n",
       "      <td>No</td>\n",
       "      <td>2</td>\n",
       "      <td>No</td>\n",
       "      <td>1</td>\n",
       "      <td>42.30</td>\n",
       "      <td>1840.75</td>\n",
       "      <td>No</td>\n",
       "    </tr>\n",
       "    <tr>\n",
       "      <th>4</th>\n",
       "      <td>Female</td>\n",
       "      <td>0</td>\n",
       "      <td>No</td>\n",
       "      <td>No</td>\n",
       "      <td>2</td>\n",
       "      <td>Yes</td>\n",
       "      <td>No</td>\n",
       "      <td>1</td>\n",
       "      <td>No</td>\n",
       "      <td>No</td>\n",
       "      <td>No</td>\n",
       "      <td>No</td>\n",
       "      <td>No</td>\n",
       "      <td>No</td>\n",
       "      <td>3</td>\n",
       "      <td>Yes</td>\n",
       "      <td>3</td>\n",
       "      <td>70.70</td>\n",
       "      <td>151.65</td>\n",
       "      <td>Yes</td>\n",
       "    </tr>\n",
       "  </tbody>\n",
       "</table>\n",
       "</div>"
      ],
      "text/plain": [
       "   gender  SeniorCitizen Partner Dependents  tenure PhoneService  \\\n",
       "0  Female              0     Yes         No       1           No   \n",
       "1    Male              0      No         No      34          Yes   \n",
       "2    Male              0      No         No       2          Yes   \n",
       "3    Male              0      No         No      45           No   \n",
       "4  Female              0      No         No       2          Yes   \n",
       "\n",
       "      MultipleLines  InternetService OnlineSecurity OnlineBackup  \\\n",
       "0  No phone service                2             No          Yes   \n",
       "1                No                2            Yes           No   \n",
       "2                No                2            Yes          Yes   \n",
       "3  No phone service                2            Yes           No   \n",
       "4                No                1             No           No   \n",
       "\n",
       "  DeviceProtection TechSupport StreamingTV StreamingMovies  Contract  \\\n",
       "0               No          No          No              No         3   \n",
       "1              Yes          No          No              No         2   \n",
       "2               No          No          No              No         3   \n",
       "3              Yes         Yes          No              No         2   \n",
       "4               No          No          No              No         3   \n",
       "\n",
       "  PaperlessBilling  PaymentMethod  MonthlyCharges TotalCharges Churn  \n",
       "0              Yes              3           29.85        29.85    No  \n",
       "1               No              4           56.95       1889.5    No  \n",
       "2              Yes              4           53.85       108.15   Yes  \n",
       "3               No              1           42.30      1840.75    No  \n",
       "4              Yes              3           70.70       151.65   Yes  "
      ]
     },
     "execution_count": 6,
     "metadata": {},
     "output_type": "execute_result"
    }
   ],
   "source": [
    "c.replace({'PaymentMethod': {\"Electronic check\":3,\"Mailed check\":4,\"Bank transfer (automatic)\":1,\"Credit card (automatic)\":2},\n",
    "            'Contract':{\"Month-to-month\":3,\"Two year\": 1,\"One year\": 2},\n",
    "            'InternetService':{\"Fiber optic\":1,\"DSL\":2,\"No\":0}}, inplace = True)\n",
    "c.head()\n",
    "\n",
    "# conversion of non-numeric column to numeric for an ordinal data"
   ]
  },
  {
   "cell_type": "markdown",
   "id": "f8231760",
   "metadata": {},
   "source": [
    "###### - Converting the non-numeric data to numeric using `LabelEncoder`"
   ]
  },
  {
   "cell_type": "code",
   "execution_count": 7,
   "id": "72ab0011",
   "metadata": {},
   "outputs": [],
   "source": [
    "from sklearn.preprocessing import LabelEncoder\n",
    "le = LabelEncoder()"
   ]
  },
  {
   "cell_type": "code",
   "execution_count": 8,
   "id": "d142b0a0",
   "metadata": {},
   "outputs": [
    {
     "data": {
      "text/html": [
       "<div>\n",
       "<style scoped>\n",
       "    .dataframe tbody tr th:only-of-type {\n",
       "        vertical-align: middle;\n",
       "    }\n",
       "\n",
       "    .dataframe tbody tr th {\n",
       "        vertical-align: top;\n",
       "    }\n",
       "\n",
       "    .dataframe thead th {\n",
       "        text-align: right;\n",
       "    }\n",
       "</style>\n",
       "<table border=\"1\" class=\"dataframe\">\n",
       "  <thead>\n",
       "    <tr style=\"text-align: right;\">\n",
       "      <th></th>\n",
       "      <th>gender</th>\n",
       "      <th>Partner</th>\n",
       "      <th>Dependents</th>\n",
       "      <th>PhoneService</th>\n",
       "      <th>MultipleLines</th>\n",
       "      <th>OnlineSecurity</th>\n",
       "      <th>OnlineBackup</th>\n",
       "      <th>DeviceProtection</th>\n",
       "      <th>TechSupport</th>\n",
       "      <th>StreamingTV</th>\n",
       "      <th>StreamingMovies</th>\n",
       "      <th>PaperlessBilling</th>\n",
       "      <th>TotalCharges</th>\n",
       "      <th>Churn</th>\n",
       "    </tr>\n",
       "  </thead>\n",
       "  <tbody>\n",
       "    <tr>\n",
       "      <th>0</th>\n",
       "      <td>Female</td>\n",
       "      <td>Yes</td>\n",
       "      <td>No</td>\n",
       "      <td>No</td>\n",
       "      <td>No phone service</td>\n",
       "      <td>No</td>\n",
       "      <td>Yes</td>\n",
       "      <td>No</td>\n",
       "      <td>No</td>\n",
       "      <td>No</td>\n",
       "      <td>No</td>\n",
       "      <td>Yes</td>\n",
       "      <td>29.85</td>\n",
       "      <td>No</td>\n",
       "    </tr>\n",
       "    <tr>\n",
       "      <th>1</th>\n",
       "      <td>Male</td>\n",
       "      <td>No</td>\n",
       "      <td>No</td>\n",
       "      <td>Yes</td>\n",
       "      <td>No</td>\n",
       "      <td>Yes</td>\n",
       "      <td>No</td>\n",
       "      <td>Yes</td>\n",
       "      <td>No</td>\n",
       "      <td>No</td>\n",
       "      <td>No</td>\n",
       "      <td>No</td>\n",
       "      <td>1889.5</td>\n",
       "      <td>No</td>\n",
       "    </tr>\n",
       "    <tr>\n",
       "      <th>2</th>\n",
       "      <td>Male</td>\n",
       "      <td>No</td>\n",
       "      <td>No</td>\n",
       "      <td>Yes</td>\n",
       "      <td>No</td>\n",
       "      <td>Yes</td>\n",
       "      <td>Yes</td>\n",
       "      <td>No</td>\n",
       "      <td>No</td>\n",
       "      <td>No</td>\n",
       "      <td>No</td>\n",
       "      <td>Yes</td>\n",
       "      <td>108.15</td>\n",
       "      <td>Yes</td>\n",
       "    </tr>\n",
       "    <tr>\n",
       "      <th>3</th>\n",
       "      <td>Male</td>\n",
       "      <td>No</td>\n",
       "      <td>No</td>\n",
       "      <td>No</td>\n",
       "      <td>No phone service</td>\n",
       "      <td>Yes</td>\n",
       "      <td>No</td>\n",
       "      <td>Yes</td>\n",
       "      <td>Yes</td>\n",
       "      <td>No</td>\n",
       "      <td>No</td>\n",
       "      <td>No</td>\n",
       "      <td>1840.75</td>\n",
       "      <td>No</td>\n",
       "    </tr>\n",
       "    <tr>\n",
       "      <th>4</th>\n",
       "      <td>Female</td>\n",
       "      <td>No</td>\n",
       "      <td>No</td>\n",
       "      <td>Yes</td>\n",
       "      <td>No</td>\n",
       "      <td>No</td>\n",
       "      <td>No</td>\n",
       "      <td>No</td>\n",
       "      <td>No</td>\n",
       "      <td>No</td>\n",
       "      <td>No</td>\n",
       "      <td>Yes</td>\n",
       "      <td>151.65</td>\n",
       "      <td>Yes</td>\n",
       "    </tr>\n",
       "    <tr>\n",
       "      <th>...</th>\n",
       "      <td>...</td>\n",
       "      <td>...</td>\n",
       "      <td>...</td>\n",
       "      <td>...</td>\n",
       "      <td>...</td>\n",
       "      <td>...</td>\n",
       "      <td>...</td>\n",
       "      <td>...</td>\n",
       "      <td>...</td>\n",
       "      <td>...</td>\n",
       "      <td>...</td>\n",
       "      <td>...</td>\n",
       "      <td>...</td>\n",
       "      <td>...</td>\n",
       "    </tr>\n",
       "    <tr>\n",
       "      <th>7038</th>\n",
       "      <td>Male</td>\n",
       "      <td>Yes</td>\n",
       "      <td>Yes</td>\n",
       "      <td>Yes</td>\n",
       "      <td>Yes</td>\n",
       "      <td>Yes</td>\n",
       "      <td>No</td>\n",
       "      <td>Yes</td>\n",
       "      <td>Yes</td>\n",
       "      <td>Yes</td>\n",
       "      <td>Yes</td>\n",
       "      <td>Yes</td>\n",
       "      <td>1990.5</td>\n",
       "      <td>No</td>\n",
       "    </tr>\n",
       "    <tr>\n",
       "      <th>7039</th>\n",
       "      <td>Female</td>\n",
       "      <td>Yes</td>\n",
       "      <td>Yes</td>\n",
       "      <td>Yes</td>\n",
       "      <td>Yes</td>\n",
       "      <td>No</td>\n",
       "      <td>Yes</td>\n",
       "      <td>Yes</td>\n",
       "      <td>No</td>\n",
       "      <td>Yes</td>\n",
       "      <td>Yes</td>\n",
       "      <td>Yes</td>\n",
       "      <td>7362.9</td>\n",
       "      <td>No</td>\n",
       "    </tr>\n",
       "    <tr>\n",
       "      <th>7040</th>\n",
       "      <td>Female</td>\n",
       "      <td>Yes</td>\n",
       "      <td>Yes</td>\n",
       "      <td>No</td>\n",
       "      <td>No phone service</td>\n",
       "      <td>Yes</td>\n",
       "      <td>No</td>\n",
       "      <td>No</td>\n",
       "      <td>No</td>\n",
       "      <td>No</td>\n",
       "      <td>No</td>\n",
       "      <td>Yes</td>\n",
       "      <td>346.45</td>\n",
       "      <td>No</td>\n",
       "    </tr>\n",
       "    <tr>\n",
       "      <th>7041</th>\n",
       "      <td>Male</td>\n",
       "      <td>Yes</td>\n",
       "      <td>No</td>\n",
       "      <td>Yes</td>\n",
       "      <td>Yes</td>\n",
       "      <td>No</td>\n",
       "      <td>No</td>\n",
       "      <td>No</td>\n",
       "      <td>No</td>\n",
       "      <td>No</td>\n",
       "      <td>No</td>\n",
       "      <td>Yes</td>\n",
       "      <td>306.6</td>\n",
       "      <td>Yes</td>\n",
       "    </tr>\n",
       "    <tr>\n",
       "      <th>7042</th>\n",
       "      <td>Male</td>\n",
       "      <td>No</td>\n",
       "      <td>No</td>\n",
       "      <td>Yes</td>\n",
       "      <td>No</td>\n",
       "      <td>Yes</td>\n",
       "      <td>No</td>\n",
       "      <td>Yes</td>\n",
       "      <td>Yes</td>\n",
       "      <td>Yes</td>\n",
       "      <td>Yes</td>\n",
       "      <td>Yes</td>\n",
       "      <td>6844.5</td>\n",
       "      <td>No</td>\n",
       "    </tr>\n",
       "  </tbody>\n",
       "</table>\n",
       "<p>7043 rows × 14 columns</p>\n",
       "</div>"
      ],
      "text/plain": [
       "      gender Partner Dependents PhoneService     MultipleLines OnlineSecurity  \\\n",
       "0     Female     Yes         No           No  No phone service             No   \n",
       "1       Male      No         No          Yes                No            Yes   \n",
       "2       Male      No         No          Yes                No            Yes   \n",
       "3       Male      No         No           No  No phone service            Yes   \n",
       "4     Female      No         No          Yes                No             No   \n",
       "...      ...     ...        ...          ...               ...            ...   \n",
       "7038    Male     Yes        Yes          Yes               Yes            Yes   \n",
       "7039  Female     Yes        Yes          Yes               Yes             No   \n",
       "7040  Female     Yes        Yes           No  No phone service            Yes   \n",
       "7041    Male     Yes         No          Yes               Yes             No   \n",
       "7042    Male      No         No          Yes                No            Yes   \n",
       "\n",
       "     OnlineBackup DeviceProtection TechSupport StreamingTV StreamingMovies  \\\n",
       "0             Yes               No          No          No              No   \n",
       "1              No              Yes          No          No              No   \n",
       "2             Yes               No          No          No              No   \n",
       "3              No              Yes         Yes          No              No   \n",
       "4              No               No          No          No              No   \n",
       "...           ...              ...         ...         ...             ...   \n",
       "7038           No              Yes         Yes         Yes             Yes   \n",
       "7039          Yes              Yes          No         Yes             Yes   \n",
       "7040           No               No          No          No              No   \n",
       "7041           No               No          No          No              No   \n",
       "7042           No              Yes         Yes         Yes             Yes   \n",
       "\n",
       "     PaperlessBilling TotalCharges Churn  \n",
       "0                 Yes        29.85    No  \n",
       "1                  No       1889.5    No  \n",
       "2                 Yes       108.15   Yes  \n",
       "3                  No      1840.75    No  \n",
       "4                 Yes       151.65   Yes  \n",
       "...               ...          ...   ...  \n",
       "7038              Yes       1990.5    No  \n",
       "7039              Yes       7362.9    No  \n",
       "7040              Yes       346.45    No  \n",
       "7041              Yes        306.6   Yes  \n",
       "7042              Yes       6844.5    No  \n",
       "\n",
       "[7043 rows x 14 columns]"
      ]
     },
     "execution_count": 8,
     "metadata": {},
     "output_type": "execute_result"
    }
   ],
   "source": [
    "c[c.select_dtypes(include = 'object').columns]"
   ]
  },
  {
   "cell_type": "code",
   "execution_count": 9,
   "id": "6f526b4c",
   "metadata": {},
   "outputs": [],
   "source": [
    "c[c.select_dtypes(include = 'object').columns] = c[c.select_dtypes(include = 'object').columns].apply(le.fit_transform)"
   ]
  },
  {
   "cell_type": "code",
   "execution_count": 10,
   "id": "4eb3225d",
   "metadata": {},
   "outputs": [
    {
     "data": {
      "text/html": [
       "<div>\n",
       "<style scoped>\n",
       "    .dataframe tbody tr th:only-of-type {\n",
       "        vertical-align: middle;\n",
       "    }\n",
       "\n",
       "    .dataframe tbody tr th {\n",
       "        vertical-align: top;\n",
       "    }\n",
       "\n",
       "    .dataframe thead th {\n",
       "        text-align: right;\n",
       "    }\n",
       "</style>\n",
       "<table border=\"1\" class=\"dataframe\">\n",
       "  <thead>\n",
       "    <tr style=\"text-align: right;\">\n",
       "      <th></th>\n",
       "      <th>gender</th>\n",
       "      <th>SeniorCitizen</th>\n",
       "      <th>Partner</th>\n",
       "      <th>Dependents</th>\n",
       "      <th>tenure</th>\n",
       "      <th>PhoneService</th>\n",
       "      <th>MultipleLines</th>\n",
       "      <th>InternetService</th>\n",
       "      <th>OnlineSecurity</th>\n",
       "      <th>OnlineBackup</th>\n",
       "      <th>DeviceProtection</th>\n",
       "      <th>TechSupport</th>\n",
       "      <th>StreamingTV</th>\n",
       "      <th>StreamingMovies</th>\n",
       "      <th>Contract</th>\n",
       "      <th>PaperlessBilling</th>\n",
       "      <th>PaymentMethod</th>\n",
       "      <th>MonthlyCharges</th>\n",
       "      <th>TotalCharges</th>\n",
       "      <th>Churn</th>\n",
       "    </tr>\n",
       "  </thead>\n",
       "  <tbody>\n",
       "    <tr>\n",
       "      <th>0</th>\n",
       "      <td>0</td>\n",
       "      <td>0</td>\n",
       "      <td>1</td>\n",
       "      <td>0</td>\n",
       "      <td>1</td>\n",
       "      <td>0</td>\n",
       "      <td>1</td>\n",
       "      <td>2</td>\n",
       "      <td>0</td>\n",
       "      <td>2</td>\n",
       "      <td>0</td>\n",
       "      <td>0</td>\n",
       "      <td>0</td>\n",
       "      <td>0</td>\n",
       "      <td>3</td>\n",
       "      <td>1</td>\n",
       "      <td>3</td>\n",
       "      <td>29.85</td>\n",
       "      <td>2505</td>\n",
       "      <td>0</td>\n",
       "    </tr>\n",
       "    <tr>\n",
       "      <th>1</th>\n",
       "      <td>1</td>\n",
       "      <td>0</td>\n",
       "      <td>0</td>\n",
       "      <td>0</td>\n",
       "      <td>34</td>\n",
       "      <td>1</td>\n",
       "      <td>0</td>\n",
       "      <td>2</td>\n",
       "      <td>2</td>\n",
       "      <td>0</td>\n",
       "      <td>2</td>\n",
       "      <td>0</td>\n",
       "      <td>0</td>\n",
       "      <td>0</td>\n",
       "      <td>2</td>\n",
       "      <td>0</td>\n",
       "      <td>4</td>\n",
       "      <td>56.95</td>\n",
       "      <td>1466</td>\n",
       "      <td>0</td>\n",
       "    </tr>\n",
       "    <tr>\n",
       "      <th>2</th>\n",
       "      <td>1</td>\n",
       "      <td>0</td>\n",
       "      <td>0</td>\n",
       "      <td>0</td>\n",
       "      <td>2</td>\n",
       "      <td>1</td>\n",
       "      <td>0</td>\n",
       "      <td>2</td>\n",
       "      <td>2</td>\n",
       "      <td>2</td>\n",
       "      <td>0</td>\n",
       "      <td>0</td>\n",
       "      <td>0</td>\n",
       "      <td>0</td>\n",
       "      <td>3</td>\n",
       "      <td>1</td>\n",
       "      <td>4</td>\n",
       "      <td>53.85</td>\n",
       "      <td>157</td>\n",
       "      <td>1</td>\n",
       "    </tr>\n",
       "    <tr>\n",
       "      <th>3</th>\n",
       "      <td>1</td>\n",
       "      <td>0</td>\n",
       "      <td>0</td>\n",
       "      <td>0</td>\n",
       "      <td>45</td>\n",
       "      <td>0</td>\n",
       "      <td>1</td>\n",
       "      <td>2</td>\n",
       "      <td>2</td>\n",
       "      <td>0</td>\n",
       "      <td>2</td>\n",
       "      <td>2</td>\n",
       "      <td>0</td>\n",
       "      <td>0</td>\n",
       "      <td>2</td>\n",
       "      <td>0</td>\n",
       "      <td>1</td>\n",
       "      <td>42.30</td>\n",
       "      <td>1400</td>\n",
       "      <td>0</td>\n",
       "    </tr>\n",
       "    <tr>\n",
       "      <th>4</th>\n",
       "      <td>0</td>\n",
       "      <td>0</td>\n",
       "      <td>0</td>\n",
       "      <td>0</td>\n",
       "      <td>2</td>\n",
       "      <td>1</td>\n",
       "      <td>0</td>\n",
       "      <td>1</td>\n",
       "      <td>0</td>\n",
       "      <td>0</td>\n",
       "      <td>0</td>\n",
       "      <td>0</td>\n",
       "      <td>0</td>\n",
       "      <td>0</td>\n",
       "      <td>3</td>\n",
       "      <td>1</td>\n",
       "      <td>3</td>\n",
       "      <td>70.70</td>\n",
       "      <td>925</td>\n",
       "      <td>1</td>\n",
       "    </tr>\n",
       "  </tbody>\n",
       "</table>\n",
       "</div>"
      ],
      "text/plain": [
       "   gender  SeniorCitizen  Partner  Dependents  tenure  PhoneService  \\\n",
       "0       0              0        1           0       1             0   \n",
       "1       1              0        0           0      34             1   \n",
       "2       1              0        0           0       2             1   \n",
       "3       1              0        0           0      45             0   \n",
       "4       0              0        0           0       2             1   \n",
       "\n",
       "   MultipleLines  InternetService  OnlineSecurity  OnlineBackup  \\\n",
       "0              1                2               0             2   \n",
       "1              0                2               2             0   \n",
       "2              0                2               2             2   \n",
       "3              1                2               2             0   \n",
       "4              0                1               0             0   \n",
       "\n",
       "   DeviceProtection  TechSupport  StreamingTV  StreamingMovies  Contract  \\\n",
       "0                 0            0            0                0         3   \n",
       "1                 2            0            0                0         2   \n",
       "2                 0            0            0                0         3   \n",
       "3                 2            2            0                0         2   \n",
       "4                 0            0            0                0         3   \n",
       "\n",
       "   PaperlessBilling  PaymentMethod  MonthlyCharges  TotalCharges  Churn  \n",
       "0                 1              3           29.85          2505      0  \n",
       "1                 0              4           56.95          1466      0  \n",
       "2                 1              4           53.85           157      1  \n",
       "3                 0              1           42.30          1400      0  \n",
       "4                 1              3           70.70           925      1  "
      ]
     },
     "execution_count": 10,
     "metadata": {},
     "output_type": "execute_result"
    }
   ],
   "source": [
    "c.head()"
   ]
  },
  {
   "cell_type": "markdown",
   "id": "9734e033",
   "metadata": {},
   "source": [
    "### SAMPLING"
   ]
  },
  {
   "cell_type": "markdown",
   "id": "ace12d48",
   "metadata": {},
   "source": [
    "###### - Importing train_test_split from sklearn.model_selection"
   ]
  },
  {
   "cell_type": "code",
   "execution_count": 11,
   "id": "bacd4657",
   "metadata": {},
   "outputs": [],
   "source": [
    "from sklearn.model_selection import train_test_split"
   ]
  },
  {
   "cell_type": "markdown",
   "id": "8df7951a",
   "metadata": {},
   "source": [
    "###### - Spliting The Data Into Train And Test Data Set"
   ]
  },
  {
   "cell_type": "code",
   "execution_count": 12,
   "id": "7aa680ce",
   "metadata": {},
   "outputs": [
    {
     "data": {
      "text/plain": [
       "((7043, 20), (4930, 20), (2113, 20))"
      ]
     },
     "execution_count": 12,
     "metadata": {},
     "output_type": "execute_result"
    }
   ],
   "source": [
    "train_c , test_c = train_test_split(c, test_size = 0.3)\n",
    "\n",
    "c.shape, train_c.shape, test_c.shape"
   ]
  },
  {
   "cell_type": "markdown",
   "id": "0defbcb5",
   "metadata": {},
   "source": [
    "###### - Creating The X & Y Variables From The Dataset"
   ]
  },
  {
   "cell_type": "code",
   "execution_count": 13,
   "id": "195c944b",
   "metadata": {},
   "outputs": [],
   "source": [
    "# Seperating the x and y variables from the train data set\n",
    "\n",
    "train_c_x = train_c.iloc[:,0:-1]\n",
    "train_c_y = train_c.iloc[:,-1]\n",
    "\n",
    "# Seperating the x and y variables from the train data set\n",
    "\n",
    "test_c_x = test_c.iloc[:,0:-1]\n",
    "test_c_y = test_c.iloc[:,-1]"
   ]
  },
  {
   "cell_type": "code",
   "execution_count": 14,
   "id": "ca661ed2",
   "metadata": {},
   "outputs": [
    {
     "name": "stdout",
     "output_type": "stream",
     "text": [
      "x - variables   y - variables\n",
      "(4930, 19)       (4930,)\n",
      "(2113, 19)       (2113,)\n"
     ]
    }
   ],
   "source": [
    "print(\"x - variables \", \" y - variables\")\n",
    "print(train_c_x.shape , \"     \",train_c_y.shape)\n",
    "print(test_c_x.shape , \"     \",test_c_y.shape)\n",
    "\n"
   ]
  },
  {
   "cell_type": "markdown",
   "id": "e617a984",
   "metadata": {},
   "source": [
    "### K-Nearest Neighbour Model Building"
   ]
  },
  {
   "cell_type": "markdown",
   "id": "5125c7d0",
   "metadata": {},
   "source": [
    "###### - Importing `KNeighboursClassifier` from `sklearn.neighbours`"
   ]
  },
  {
   "cell_type": "raw",
   "id": "937cf1f3",
   "metadata": {},
   "source": [
    "from sklearn.neighbors import KNeighborsClassifier\n",
    "knn = KNeighborsClassifier()"
   ]
  },
  {
   "cell_type": "markdown",
   "id": "b1abedb7",
   "metadata": {},
   "source": [
    "###### - Model Building"
   ]
  },
  {
   "cell_type": "raw",
   "id": "172fd0df",
   "metadata": {},
   "source": [
    "knn.fit(train_c_x,train_c_y)"
   ]
  },
  {
   "cell_type": "markdown",
   "id": "0cd66575",
   "metadata": {},
   "source": [
    "###### - Prediction"
   ]
  },
  {
   "cell_type": "raw",
   "id": "551c3213",
   "metadata": {},
   "source": [
    "pred = knn.predict(test_c_x)\n",
    "pred"
   ]
  },
  {
   "cell_type": "markdown",
   "id": "d991a4c7",
   "metadata": {},
   "source": [
    "###### - Confusion Matrix"
   ]
  },
  {
   "cell_type": "markdown",
   "id": "5bad2f50",
   "metadata": {},
   "source": [
    "###### - Importing `confusion_matrix` from `sklearn.metrics`"
   ]
  },
  {
   "cell_type": "raw",
   "id": "07892858",
   "metadata": {},
   "source": [
    "from sklearn.metrics import confusion_matrix"
   ]
  },
  {
   "cell_type": "raw",
   "id": "1fcd5d3f",
   "metadata": {},
   "source": [
    "tab = confusion_matrix(test_c_y,pred)\n",
    "tab"
   ]
  },
  {
   "cell_type": "raw",
   "id": "36022b9b",
   "metadata": {},
   "source": [
    "c_m = pd.DataFrame(tab, columns = [\"0 (No_Churn)\", \"1 (Churn)\"], index = [\"0 (No_Churn)\", \"1 (Churn)\"] )\n",
    "c_m"
   ]
  },
  {
   "cell_type": "markdown",
   "id": "64737eb3",
   "metadata": {},
   "source": [
    "###### - Accuracy "
   ]
  },
  {
   "cell_type": "raw",
   "id": "29b8e7e1",
   "metadata": {},
   "source": [
    "acc = tab.diagonal().sum() * 100 / tab.sum()\n",
    "acc"
   ]
  },
  {
   "cell_type": "markdown",
   "id": "a8e8b201",
   "metadata": {},
   "source": [
    "###### - True Positive Ratio [TPR]"
   ]
  },
  {
   "cell_type": "markdown",
   "id": "d33545f6",
   "metadata": {},
   "source": [
    "###### - Importing `recall_score` from `sklearn.metrics`"
   ]
  },
  {
   "cell_type": "raw",
   "id": "a5b5f392",
   "metadata": {},
   "source": [
    "from sklearn.metrics import recall_score"
   ]
  },
  {
   "cell_type": "raw",
   "id": "b0859df3",
   "metadata": {},
   "source": [
    "TPR = recall_score(test_c_y,pred) * 100\n",
    "TPR"
   ]
  },
  {
   "cell_type": "markdown",
   "id": "e820f6c2",
   "metadata": {},
   "source": [
    "###### - False Positive Ratio [FPR]"
   ]
  },
  {
   "cell_type": "raw",
   "id": "96f8bb90",
   "metadata": {},
   "source": [
    "FPR = tab[0,1] * 100 / tab[0].sum()\n",
    "FPR"
   ]
  },
  {
   "cell_type": "markdown",
   "id": "80ebcb7c",
   "metadata": {},
   "source": [
    "###### - Precision"
   ]
  },
  {
   "cell_type": "markdown",
   "id": "1b5e5081",
   "metadata": {},
   "source": [
    "###### - Importing `f1_score` from `sklearn.metrics`"
   ]
  },
  {
   "cell_type": "raw",
   "id": "77626bc2",
   "metadata": {},
   "source": [
    "from sklearn.metrics import f1_score"
   ]
  },
  {
   "cell_type": "raw",
   "id": "e81636e3",
   "metadata": {},
   "source": [
    "f_score = f1_score(test_c_y,pred)*100\n",
    "f_score"
   ]
  },
  {
   "cell_type": "markdown",
   "id": "8abfa751",
   "metadata": {},
   "source": [
    "### Ploting Graph"
   ]
  },
  {
   "cell_type": "raw",
   "id": "1b0705c0",
   "metadata": {},
   "source": [
    "acc_list = []\n",
    "for k in range(1,20):\n",
    "    from sklearn.neighbors import KNeighborsClassifier\n",
    "    knn = KNeighborsClassifier(n_neighbors = k)\n",
    "    knn.fit(train_c_x,train_c_y)\n",
    "    pred = knn.predict(test_c_x)\n",
    "    from sklearn.metrics import confusion_matrix\n",
    "    tab = confusion_matrix(test_c_y,pred)\n",
    "    acc = tab.diagonal().sum() * 100 / tab.sum()\n",
    "    acc_list.append(acc)"
   ]
  },
  {
   "cell_type": "raw",
   "id": "6195f7d3",
   "metadata": {},
   "source": [
    "import matplotlib.pyplot as plt\n",
    "k = list(range(1,20))\n",
    "plt.plot(k, acc_list)\n",
    "plt.grid()"
   ]
  },
  {
   "cell_type": "code",
   "execution_count": null,
   "id": "f81384fd",
   "metadata": {},
   "outputs": [],
   "source": []
  },
  {
   "cell_type": "code",
   "execution_count": null,
   "id": "72ef69a8",
   "metadata": {},
   "outputs": [],
   "source": []
  },
  {
   "cell_type": "code",
   "execution_count": 15,
   "id": "3a777ada",
   "metadata": {},
   "outputs": [
    {
     "name": "stdout",
     "output_type": "stream",
     "text": [
      "-->> K-Nearest Neighbors Algorithm\n",
      "**********************************\n",
      "Confusion Matrix\n",
      "--------------------------------------------------------------\n",
      "                 (0) BP-Normal  (1) BP-Abnormal\n",
      "(0) BP-Normal             1343              223\n",
      "(1) BP-Abnormal            335              212\n",
      "--------------------------------------------------------------\n",
      "Accuracy =  73.59204921911973\n",
      "TPR = 38.75685557586837\n",
      "FPR =  14.240102171136654\n",
      "precision =  48.735632183908045\n",
      "F1-Score =  43.17718940936863\n",
      "\n",
      "\n",
      "\n",
      "\n"
     ]
    }
   ],
   "source": [
    "print(\"-->> K-Nearest Neighbors Algorithm\")\n",
    "print(\"**********************************\")\n",
    "from sklearn.neighbors import KNeighborsClassifier\n",
    "knn = KNeighborsClassifier()\n",
    "knn.fit(train_c_x,train_c_y)\n",
    "pred_knn = knn.predict(test_c_x)\n",
    "from sklearn.metrics import confusion_matrix\n",
    "print(\"Confusion Matrix\")\n",
    "print(\"--------------------------------------------------------------\")\n",
    "tab_knn = confusion_matrix(test_c_y,pred_knn)\n",
    "cm_knn = pd.DataFrame(tab_knn, columns = [\"(0) BP-Normal\",\"(1) BP-Abnormal\"], index = [\"(0) BP-Normal\",\"(1) BP-Abnormal\"]) \n",
    "print(cm_knn)\n",
    "print(\"--------------------------------------------------------------\")\n",
    "acc_knn = tab_knn.diagonal().sum() * 100 / tab_knn.sum()\n",
    "print(\"Accuracy = \",acc_knn)\n",
    "from sklearn.metrics import recall_score, precision_score\n",
    "TPR_knn = recall_score(test_c_y,pred_knn)*100\n",
    "print(\"TPR =\", TPR_knn)\n",
    "FPR_knn = tab_knn[0][1] * 100 / tab_knn[0].sum()\n",
    "print(\"FPR = \",FPR_knn)\n",
    "precision_knn = precision_score(test_c_y,pred_knn)*100\n",
    "print(\"precision = \",precision_knn)\n",
    "from sklearn.metrics import f1_score\n",
    "f_score_knn = f1_score(test_c_y,pred_knn)*100\n",
    "print(\"F1-Score = \",f_score_knn)\n",
    "print(\"\")\n",
    "print(\"\")\n",
    "print(\"\")\n",
    "print(\"\")"
   ]
  },
  {
   "cell_type": "code",
   "execution_count": 16,
   "id": "680a3f99",
   "metadata": {},
   "outputs": [
    {
     "name": "stdout",
     "output_type": "stream",
     "text": [
      "-->> K-Nearest Neighbors Algorithm\n",
      "**********************************\n",
      "Confusion Matrix\n",
      "--------------------------------------------------------------\n",
      "                 (0) BP-Normal  (1) BP-Abnormal\n",
      "(0) BP-Normal             1457              109\n",
      "(1) BP-Abnormal            390              157\n",
      "--------------------------------------------------------------\n",
      "Accuracy =  76.38428774254615\n",
      "TPR = 28.70201096892139\n",
      "FPR =  6.960408684546616\n",
      "precision =  59.02255639097744\n",
      "F1-Score =  38.622386223862236\n",
      "\n"
     ]
    },
    {
     "data": {
      "image/png": "[encoded data removed]",
      "text/plain": [
       "<Figure size 432x288 with 1 Axes>"
      ]
     },
     "metadata": {
      "needs_background": "light"
     },
     "output_type": "display_data"
    }
   ],
   "source": [
    "acc_list = []\n",
    "for k in range(1,20):\n",
    "    from sklearn.neighbors import KNeighborsClassifier\n",
    "    knn = KNeighborsClassifier(n_neighbors = k)\n",
    "    knn.fit(train_c_x,train_c_y)\n",
    "    pred_knn = knn.predict(test_c_x)\n",
    "    from sklearn.metrics import confusion_matrix\n",
    "    tab_knn = confusion_matrix(test_c_y,pred_knn)\n",
    "    acc_knn = tab_knn.diagonal().sum() * 100 / tab_knn.sum()\n",
    "    acc_list.append(acc_knn)\n",
    "\n",
    "\n",
    "print(\"-->> K-Nearest Neighbors Algorithm\")\n",
    "print(\"**********************************\")    \n",
    "print(\"Confusion Matrix\")\n",
    "cm_knn = pd.DataFrame(tab_knn, columns = [\"(0) BP-Normal\",\"(1) BP-Abnormal\"], index = [\"(0) BP-Normal\",\"(1) BP-Abnormal\"])\n",
    "print(\"--------------------------------------------------------------\")\n",
    "print(cm_knn)\n",
    "print(\"--------------------------------------------------------------\")\n",
    "print(\"Accuracy = \",acc_knn)\n",
    "from sklearn.metrics import recall_score, precision_score\n",
    "TPR_knn = recall_score(test_c_y,pred_knn)*100\n",
    "print(\"TPR =\", TPR_knn)\n",
    "FPR_knn = tab_knn[0][1] * 100 / tab_knn[0].sum()\n",
    "print(\"FPR = \",FPR_knn)\n",
    "precision_knn = precision_score(test_c_y,pred_knn)*100\n",
    "print(\"precision = \",precision_knn)\n",
    "from sklearn.metrics import f1_score\n",
    "f_score_knn = f1_score(test_c_y,pred_knn)*100\n",
    "print(\"F1-Score = \",f_score_knn)\n",
    "print(\"\")\n",
    "import matplotlib.pyplot as plt\n",
    "k = list(range(1,20))\n",
    "plt.plot(k, acc_list)\n",
    "plt.grid()"
   ]
  },
  {
   "cell_type": "code",
   "execution_count": null,
   "id": "27165df0",
   "metadata": {},
   "outputs": [],
   "source": []
  }
 ],
 "metadata": {
  "kernelspec": {
   "display_name": "Python 3 (ipykernel)",
   "language": "python",
   "name": "python3"
  },
  "language_info": {
   "codemirror_mode": {
    "name": "ipython",
    "version": 3
   },
   "file_extension": ".py",
   "mimetype": "text/x-python",
   "name": "python",
   "nbconvert_exporter": "python",
   "pygments_lexer": "ipython3",
   "version": "3.9.12"
  }
 },
 "nbformat": 4,
 "nbformat_minor": 5
}
