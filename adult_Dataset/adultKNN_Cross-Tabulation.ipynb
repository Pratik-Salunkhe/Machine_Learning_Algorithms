{
 "cells": [
  {
   "cell_type": "markdown",
   "id": "1a771209",
   "metadata": {},
   "source": [
    "# CROSS TABULATION ON `adultKNN` DATA"
   ]
  },
  {
   "cell_type": "markdown",
   "id": "464e941b",
   "metadata": {},
   "source": [
    "###### - Importing Pandas Library"
   ]
  },
  {
   "cell_type": "code",
   "execution_count": 35,
   "id": "5a6c2396",
   "metadata": {},
   "outputs": [],
   "source": [
    "import pandas as pd"
   ]
  },
  {
   "cell_type": "markdown",
   "id": "c7786b3f",
   "metadata": {},
   "source": [
    "###### - Reading csv File"
   ]
  },
  {
   "cell_type": "code",
   "execution_count": 36,
   "id": "513aa1d2",
   "metadata": {},
   "outputs": [
    {
     "data": {
      "text/html": [
       "<div>\n",
       "<style scoped>\n",
       "    .dataframe tbody tr th:only-of-type {\n",
       "        vertical-align: middle;\n",
       "    }\n",
       "\n",
       "    .dataframe tbody tr th {\n",
       "        vertical-align: top;\n",
       "    }\n",
       "\n",
       "    .dataframe thead th {\n",
       "        text-align: right;\n",
       "    }\n",
       "</style>\n",
       "<table border=\"1\" class=\"dataframe\">\n",
       "  <thead>\n",
       "    <tr style=\"text-align: right;\">\n",
       "      <th></th>\n",
       "      <th>age</th>\n",
       "      <th>workclass</th>\n",
       "      <th>fnlwgt</th>\n",
       "      <th>education</th>\n",
       "      <th>educational-num</th>\n",
       "      <th>marital-status</th>\n",
       "      <th>occupation</th>\n",
       "      <th>relationship</th>\n",
       "      <th>race</th>\n",
       "      <th>gender</th>\n",
       "      <th>capital-gain</th>\n",
       "      <th>capital-loss</th>\n",
       "      <th>hours-per-week</th>\n",
       "      <th>native-country</th>\n",
       "      <th>income</th>\n",
       "    </tr>\n",
       "  </thead>\n",
       "  <tbody>\n",
       "    <tr>\n",
       "      <th>0</th>\n",
       "      <td>25</td>\n",
       "      <td>Private</td>\n",
       "      <td>226802</td>\n",
       "      <td>11th</td>\n",
       "      <td>7</td>\n",
       "      <td>Never-married</td>\n",
       "      <td>Machine-op-inspct</td>\n",
       "      <td>Own-child</td>\n",
       "      <td>Black</td>\n",
       "      <td>Male</td>\n",
       "      <td>0</td>\n",
       "      <td>0</td>\n",
       "      <td>40</td>\n",
       "      <td>United-States</td>\n",
       "      <td>&lt;=50K</td>\n",
       "    </tr>\n",
       "    <tr>\n",
       "      <th>1</th>\n",
       "      <td>38</td>\n",
       "      <td>Private</td>\n",
       "      <td>89814</td>\n",
       "      <td>HS-grad</td>\n",
       "      <td>9</td>\n",
       "      <td>Married-civ-spouse</td>\n",
       "      <td>Farming-fishing</td>\n",
       "      <td>Husband</td>\n",
       "      <td>White</td>\n",
       "      <td>Male</td>\n",
       "      <td>0</td>\n",
       "      <td>0</td>\n",
       "      <td>50</td>\n",
       "      <td>United-States</td>\n",
       "      <td>&lt;=50K</td>\n",
       "    </tr>\n",
       "    <tr>\n",
       "      <th>2</th>\n",
       "      <td>28</td>\n",
       "      <td>Local-gov</td>\n",
       "      <td>336951</td>\n",
       "      <td>Assoc-acdm</td>\n",
       "      <td>12</td>\n",
       "      <td>Married-civ-spouse</td>\n",
       "      <td>Protective-serv</td>\n",
       "      <td>Husband</td>\n",
       "      <td>White</td>\n",
       "      <td>Male</td>\n",
       "      <td>0</td>\n",
       "      <td>0</td>\n",
       "      <td>40</td>\n",
       "      <td>United-States</td>\n",
       "      <td>&gt;50K</td>\n",
       "    </tr>\n",
       "    <tr>\n",
       "      <th>3</th>\n",
       "      <td>44</td>\n",
       "      <td>Private</td>\n",
       "      <td>160323</td>\n",
       "      <td>Some-college</td>\n",
       "      <td>10</td>\n",
       "      <td>Married-civ-spouse</td>\n",
       "      <td>Machine-op-inspct</td>\n",
       "      <td>Husband</td>\n",
       "      <td>Black</td>\n",
       "      <td>Male</td>\n",
       "      <td>7688</td>\n",
       "      <td>0</td>\n",
       "      <td>40</td>\n",
       "      <td>United-States</td>\n",
       "      <td>&gt;50K</td>\n",
       "    </tr>\n",
       "    <tr>\n",
       "      <th>4</th>\n",
       "      <td>18</td>\n",
       "      <td>?</td>\n",
       "      <td>103497</td>\n",
       "      <td>Some-college</td>\n",
       "      <td>10</td>\n",
       "      <td>Never-married</td>\n",
       "      <td>?</td>\n",
       "      <td>Own-child</td>\n",
       "      <td>White</td>\n",
       "      <td>Female</td>\n",
       "      <td>0</td>\n",
       "      <td>0</td>\n",
       "      <td>30</td>\n",
       "      <td>United-States</td>\n",
       "      <td>&lt;=50K</td>\n",
       "    </tr>\n",
       "  </tbody>\n",
       "</table>\n",
       "</div>"
      ],
      "text/plain": [
       "   age  workclass  fnlwgt     education  educational-num      marital-status  \\\n",
       "0   25    Private  226802          11th                7       Never-married   \n",
       "1   38    Private   89814       HS-grad                9  Married-civ-spouse   \n",
       "2   28  Local-gov  336951    Assoc-acdm               12  Married-civ-spouse   \n",
       "3   44    Private  160323  Some-college               10  Married-civ-spouse   \n",
       "4   18          ?  103497  Some-college               10       Never-married   \n",
       "\n",
       "          occupation relationship   race  gender  capital-gain  capital-loss  \\\n",
       "0  Machine-op-inspct    Own-child  Black    Male             0             0   \n",
       "1    Farming-fishing      Husband  White    Male             0             0   \n",
       "2    Protective-serv      Husband  White    Male             0             0   \n",
       "3  Machine-op-inspct      Husband  Black    Male          7688             0   \n",
       "4                  ?    Own-child  White  Female             0             0   \n",
       "\n",
       "   hours-per-week native-country income  \n",
       "0              40  United-States  <=50K  \n",
       "1              50  United-States  <=50K  \n",
       "2              40  United-States   >50K  \n",
       "3              40  United-States   >50K  \n",
       "4              30  United-States  <=50K  "
      ]
     },
     "execution_count": 36,
     "metadata": {},
     "output_type": "execute_result"
    }
   ],
   "source": [
    "ak = pd.read_csv(\"adultKNN.csv\")\n",
    "ak.head()"
   ]
  },
  {
   "cell_type": "markdown",
   "id": "952da088",
   "metadata": {},
   "source": [
    "###### - Checking for the size of data "
   ]
  },
  {
   "cell_type": "code",
   "execution_count": 37,
   "id": "ecc93f3e",
   "metadata": {},
   "outputs": [
    {
     "data": {
      "text/plain": [
       "(48842, 15)"
      ]
     },
     "execution_count": 37,
     "metadata": {},
     "output_type": "execute_result"
    }
   ],
   "source": [
    "ak.shape"
   ]
  },
  {
   "cell_type": "markdown",
   "id": "5f1ef06f",
   "metadata": {},
   "source": [
    "- > The Data contains Null values in for of ? "
   ]
  },
  {
   "cell_type": "markdown",
   "id": "17c3f617",
   "metadata": {},
   "source": [
    "### Replacing \" ? \" to np.nan (i.e Null Values)"
   ]
  },
  {
   "cell_type": "markdown",
   "id": "f46ba7bc",
   "metadata": {},
   "source": [
    "###### - Importing Numpy Library"
   ]
  },
  {
   "cell_type": "code",
   "execution_count": 38,
   "id": "72b89f22",
   "metadata": {},
   "outputs": [],
   "source": [
    "import numpy as np"
   ]
  },
  {
   "cell_type": "markdown",
   "id": "65ad6b6e",
   "metadata": {},
   "source": [
    "###### - Replacing \" ? \" to np.nan"
   ]
  },
  {
   "cell_type": "code",
   "execution_count": 39,
   "id": "69485310",
   "metadata": {},
   "outputs": [],
   "source": [
    "ak.replace({\"?\":np.nan}, inplace = True)"
   ]
  },
  {
   "cell_type": "markdown",
   "id": "ff299b5d",
   "metadata": {},
   "source": [
    "# CROSS TABULATION "
   ]
  },
  {
   "cell_type": "code",
   "execution_count": 40,
   "id": "22a067bc",
   "metadata": {},
   "outputs": [
    {
     "data": {
      "text/html": [
       "<div>\n",
       "<style scoped>\n",
       "    .dataframe tbody tr th:only-of-type {\n",
       "        vertical-align: middle;\n",
       "    }\n",
       "\n",
       "    .dataframe tbody tr th {\n",
       "        vertical-align: top;\n",
       "    }\n",
       "\n",
       "    .dataframe thead th {\n",
       "        text-align: right;\n",
       "    }\n",
       "</style>\n",
       "<table border=\"1\" class=\"dataframe\">\n",
       "  <thead>\n",
       "    <tr style=\"text-align: right;\">\n",
       "      <th>income</th>\n",
       "      <th>&lt;=50K</th>\n",
       "      <th>&gt;50K</th>\n",
       "    </tr>\n",
       "    <tr>\n",
       "      <th>gender</th>\n",
       "      <th></th>\n",
       "      <th></th>\n",
       "    </tr>\n",
       "  </thead>\n",
       "  <tbody>\n",
       "    <tr>\n",
       "      <th>Female</th>\n",
       "      <td>14423</td>\n",
       "      <td>1769</td>\n",
       "    </tr>\n",
       "    <tr>\n",
       "      <th>Male</th>\n",
       "      <td>22732</td>\n",
       "      <td>9918</td>\n",
       "    </tr>\n",
       "  </tbody>\n",
       "</table>\n",
       "</div>"
      ],
      "text/plain": [
       "income  <=50K  >50K\n",
       "gender             \n",
       "Female  14423  1769\n",
       "Male    22732  9918"
      ]
     },
     "execution_count": 40,
     "metadata": {},
     "output_type": "execute_result"
    }
   ],
   "source": [
    "pd.crosstab(ak.gender,ak.income)"
   ]
  },
  {
   "cell_type": "code",
   "execution_count": 41,
   "id": "5f311a86",
   "metadata": {},
   "outputs": [
    {
     "name": "stdout",
     "output_type": "stream",
     "text": [
      "89.07485177865613 % of Females have income less than 50K\n",
      "10.925148221343873 % of Females have income greater than 50K\n",
      "69.62327718223584 % of Males have income less than 50K\n",
      "30.37672281776417 % of Maless have income greater than 50K\n"
     ]
    }
   ],
   "source": [
    "print(14423/(14423+1769)*100,\"% of Females have income less than 50K\")\n",
    "print(1769/(14423+1769)*100,\"% of Females have income greater than 50K\")\n",
    "\n",
    "print(22732/(22732+9918)*100,\"% of Males have income less than 50K\")\n",
    "print(9918/(22732+9918)*100,\"% of Maless have income greater than 50K\")"
   ]
  },
  {
   "cell_type": "code",
   "execution_count": 42,
   "id": "d608ba8a",
   "metadata": {},
   "outputs": [
    {
     "data": {
      "text/html": [
       "<div>\n",
       "<style scoped>\n",
       "    .dataframe tbody tr th:only-of-type {\n",
       "        vertical-align: middle;\n",
       "    }\n",
       "\n",
       "    .dataframe tbody tr th {\n",
       "        vertical-align: top;\n",
       "    }\n",
       "\n",
       "    .dataframe thead th {\n",
       "        text-align: right;\n",
       "    }\n",
       "</style>\n",
       "<table border=\"1\" class=\"dataframe\">\n",
       "  <thead>\n",
       "    <tr style=\"text-align: right;\">\n",
       "      <th>income</th>\n",
       "      <th>&lt;=50K</th>\n",
       "      <th>&gt;50K</th>\n",
       "    </tr>\n",
       "    <tr>\n",
       "      <th>age</th>\n",
       "      <th></th>\n",
       "      <th></th>\n",
       "    </tr>\n",
       "  </thead>\n",
       "  <tbody>\n",
       "    <tr>\n",
       "      <th>False</th>\n",
       "      <td>26935</td>\n",
       "      <td>6267</td>\n",
       "    </tr>\n",
       "    <tr>\n",
       "      <th>True</th>\n",
       "      <td>10220</td>\n",
       "      <td>5420</td>\n",
       "    </tr>\n",
       "  </tbody>\n",
       "</table>\n",
       "</div>"
      ],
      "text/plain": [
       "income  <=50K  >50K\n",
       "age                \n",
       "False   26935  6267\n",
       "True    10220  5420"
      ]
     },
     "execution_count": 42,
     "metadata": {},
     "output_type": "execute_result"
    }
   ],
   "source": [
    "pd.crosstab(ak.age >= round(ak.age.max() / 2) ,ak.income)"
   ]
  },
  {
   "cell_type": "code",
   "execution_count": 43,
   "id": "86162407",
   "metadata": {},
   "outputs": [
    {
     "name": "stdout",
     "output_type": "stream",
     "text": [
      "81.12463104632252 % of peoples age is less than 45 whose salary is less than 50K\n",
      "18.87536895367749 % of peoples age is less than  45  whose salary is greater than 50K\n",
      "81.12463104632252 % of peoples age is greater than equal to 45 whose salary is less than 50K\n",
      "18.87536895367749 % of peoples age is greater than equal to  45  whose salary is greater than 50K\n"
     ]
    }
   ],
   "source": [
    "print(26935 / (26935+6267) * 100,\"% of peoples age is less than\", round(ak.age.max() / 2), \"whose salary is less than 50K\")\n",
    "print(6267 / (26935+6267) * 100,\"% of peoples age is less than \" ,round(ak.age.max() / 2), \" whose salary is greater than 50K\")\n",
    "print(26935 / (26935+6267) * 100,\"% of peoples age is greater than equal to\" ,round(ak.age.max() / 2), \"whose salary is less than 50K\")\n",
    "print(6267 / (26935+6267) * 100,\"% of peoples age is greater than equal to \", round(ak.age.max() / 2), \" whose salary is greater than 50K\")"
   ]
  },
  {
   "cell_type": "markdown",
   "id": "4dfa7f36",
   "metadata": {},
   "source": [
    "###### - Cross-Tabulation On all The Columns"
   ]
  },
  {
   "cell_type": "code",
   "execution_count": 44,
   "id": "3fb00849",
   "metadata": {},
   "outputs": [
    {
     "data": {
      "text/html": [
       "<div>\n",
       "<style scoped>\n",
       "    .dataframe tbody tr th:only-of-type {\n",
       "        vertical-align: middle;\n",
       "    }\n",
       "\n",
       "    .dataframe tbody tr th {\n",
       "        vertical-align: top;\n",
       "    }\n",
       "\n",
       "    .dataframe thead th {\n",
       "        text-align: right;\n",
       "    }\n",
       "</style>\n",
       "<table border=\"1\" class=\"dataframe\">\n",
       "  <thead>\n",
       "    <tr style=\"text-align: right;\">\n",
       "      <th></th>\n",
       "      <th>age</th>\n",
       "      <th>workclass</th>\n",
       "      <th>fnlwgt</th>\n",
       "      <th>education</th>\n",
       "      <th>educational-num</th>\n",
       "      <th>marital-status</th>\n",
       "      <th>occupation</th>\n",
       "      <th>relationship</th>\n",
       "      <th>race</th>\n",
       "      <th>gender</th>\n",
       "      <th>capital-gain</th>\n",
       "      <th>capital-loss</th>\n",
       "      <th>hours-per-week</th>\n",
       "      <th>native-country</th>\n",
       "      <th>income</th>\n",
       "    </tr>\n",
       "  </thead>\n",
       "  <tbody>\n",
       "    <tr>\n",
       "      <th>0</th>\n",
       "      <td>25</td>\n",
       "      <td>Private</td>\n",
       "      <td>226802</td>\n",
       "      <td>11th</td>\n",
       "      <td>7</td>\n",
       "      <td>Never-married</td>\n",
       "      <td>Machine-op-inspct</td>\n",
       "      <td>Own-child</td>\n",
       "      <td>Black</td>\n",
       "      <td>Male</td>\n",
       "      <td>0</td>\n",
       "      <td>0</td>\n",
       "      <td>40</td>\n",
       "      <td>United-States</td>\n",
       "      <td>&lt;=50K</td>\n",
       "    </tr>\n",
       "    <tr>\n",
       "      <th>1</th>\n",
       "      <td>38</td>\n",
       "      <td>Private</td>\n",
       "      <td>89814</td>\n",
       "      <td>HS-grad</td>\n",
       "      <td>9</td>\n",
       "      <td>Married-civ-spouse</td>\n",
       "      <td>Farming-fishing</td>\n",
       "      <td>Husband</td>\n",
       "      <td>White</td>\n",
       "      <td>Male</td>\n",
       "      <td>0</td>\n",
       "      <td>0</td>\n",
       "      <td>50</td>\n",
       "      <td>United-States</td>\n",
       "      <td>&lt;=50K</td>\n",
       "    </tr>\n",
       "  </tbody>\n",
       "</table>\n",
       "</div>"
      ],
      "text/plain": [
       "   age workclass  fnlwgt education  educational-num      marital-status  \\\n",
       "0   25   Private  226802      11th                7       Never-married   \n",
       "1   38   Private   89814   HS-grad                9  Married-civ-spouse   \n",
       "\n",
       "          occupation relationship   race gender  capital-gain  capital-loss  \\\n",
       "0  Machine-op-inspct    Own-child  Black   Male             0             0   \n",
       "1    Farming-fishing      Husband  White   Male             0             0   \n",
       "\n",
       "   hours-per-week native-country income  \n",
       "0              40  United-States  <=50K  \n",
       "1              50  United-States  <=50K  "
      ]
     },
     "execution_count": 44,
     "metadata": {},
     "output_type": "execute_result"
    }
   ],
   "source": [
    "ak.head(2)"
   ]
  },
  {
   "cell_type": "markdown",
   "id": "32eb997b",
   "metadata": {},
   "source": [
    "###### - Cross-Tabulation on all columns"
   ]
  },
  {
   "cell_type": "code",
   "execution_count": 45,
   "id": "529ce42a",
   "metadata": {},
   "outputs": [
    {
     "name": "stdout",
     "output_type": "stream",
     "text": [
      "Cross Tabulation on  workclass & income\n",
      "   \n",
      "income            <=50K  >50K\n",
      "workclass                    \n",
      "Federal-gov         871   561\n",
      "Local-gov          2209   927\n",
      "Never-worked         10     0\n",
      "Private           26519  7387\n",
      "Self-emp-inc        757   938\n",
      "Self-emp-not-inc   2785  1077\n",
      "State-gov          1451   530\n",
      "Without-pay          19     2\n",
      "    \n",
      "Cross Tabulation on  education & income\n",
      "   \n",
      "income        <=50K  >50K\n",
      "education                \n",
      "10th           1302    87\n",
      "11th           1720    92\n",
      "12th            609    48\n",
      "1st-4th         239     8\n",
      "5th-6th         482    27\n",
      "7th-8th         893    62\n",
      "9th             715    41\n",
      "Assoc-acdm     1188   413\n",
      "Assoc-voc      1539   522\n",
      "Bachelors      4712  3313\n",
      "Doctorate       163   431\n",
      "HS-grad       13281  2503\n",
      "Masters        1198  1459\n",
      "Preschool        82     1\n",
      "Prof-school     217   617\n",
      "Some-college   8815  2063\n",
      "    \n",
      "Cross Tabulation on  marital-status & income\n",
      "   \n",
      "income                 <=50K  >50K\n",
      "marital-status                    \n",
      "Divorced                5962   671\n",
      "Married-AF-spouse         23    14\n",
      "Married-civ-spouse     12395  9984\n",
      "Married-spouse-absent    570    58\n",
      "Never-married          15384   733\n",
      "Separated               1431    99\n",
      "Widowed                 1390   128\n",
      "    \n",
      "Cross Tabulation on  occupation & income\n",
      "   \n",
      "income             <=50K  >50K\n",
      "occupation                    \n",
      "Adm-clerical        4843   768\n",
      "Armed-Forces          10     5\n",
      "Craft-repair        4729  1383\n",
      "Exec-managerial     3178  2908\n",
      "Farming-fishing     1317   173\n",
      "Handlers-cleaners   1934   138\n",
      "Machine-op-inspct   2650   372\n",
      "Other-service       4719   204\n",
      "Priv-house-serv      239     3\n",
      "Prof-specialty      3388  2784\n",
      "Protective-serv      675   308\n",
      "Sales               4029  1475\n",
      "Tech-support        1026   420\n",
      "Transport-moving    1874   481\n",
      "    \n",
      "Cross Tabulation on  relationship & income\n",
      "   \n",
      "income          <=50K  >50K\n",
      "relationship               \n",
      "Husband         10870  8846\n",
      "Not-in-family   11307  1276\n",
      "Other-relative   1454    52\n",
      "Own-child        7470   111\n",
      "Unmarried        4816   309\n",
      "Wife             1238  1093\n",
      "    \n",
      "Cross Tabulation on  race & income\n",
      "   \n",
      "income              <=50K   >50K\n",
      "race                            \n",
      "Amer-Indian-Eskimo    415     55\n",
      "Asian-Pac-Islander   1110    409\n",
      "Black                4119    566\n",
      "Other                 356     50\n",
      "White               31155  10607\n",
      "    \n",
      "Cross Tabulation on  gender & income\n",
      "   \n",
      "income  <=50K  >50K\n",
      "gender             \n",
      "Female  14423  1769\n",
      "Male    22732  9918\n",
      "    \n",
      "Cross Tabulation on  native-country & income\n",
      "   \n",
      "income                      <=50K   >50K\n",
      "native-country                          \n",
      "Cambodia                       19      9\n",
      "Canada                        119     63\n",
      "China                          86     36\n",
      "Columbia                       81      4\n",
      "Cuba                          104     34\n",
      "Dominican-Republic             98      5\n",
      "Ecuador                        39      6\n",
      "El-Salvador                   144     11\n",
      "England                        80     47\n",
      "France                         22     16\n",
      "Germany                       148     58\n",
      "Greece                         31     18\n",
      "Guatemala                      85      3\n",
      "Haiti                          66      9\n",
      "Holand-Netherlands              1      0\n",
      "Honduras                       18      2\n",
      "Hong                           22      8\n",
      "Hungary                        13      6\n",
      "India                          89     62\n",
      "Iran                           37     22\n",
      "Ireland                        26     11\n",
      "Italy                          71     34\n",
      "Jamaica                        91     15\n",
      "Japan                          60     32\n",
      "Laos                           21      2\n",
      "Mexico                        904     47\n",
      "Nicaragua                      46      3\n",
      "Outlying-US(Guam-USVI-etc)     22      1\n",
      "Peru                           42      4\n",
      "Philippines                   210     85\n",
      "Poland                         70     17\n",
      "Portugal                       55     12\n",
      "Puerto-Rico                   164     20\n",
      "Scotland                       18      3\n",
      "South                          95     20\n",
      "Taiwan                         39     26\n",
      "Thailand                       25      5\n",
      "Trinadad&Tobago                25      2\n",
      "United-States               33138  10694\n",
      "Vietnam                        79      7\n",
      "Yugoslavia                     15      8\n",
      "    \n"
     ]
    }
   ],
   "source": [
    "x = ak.iloc[:,0:-1]\n",
    "y = ak.iloc[:,-1]\n",
    "col = x.select_dtypes(include = 'object').columns\n",
    "\n",
    "for i in col:\n",
    "    print(\"Cross Tabulation on \",i,\"& income\")\n",
    "    print(\"   \")\n",
    "    print(pd.crosstab(x[i],ak[\"income\"]))\n",
    "    print(\"    \")"
   ]
  },
  {
   "cell_type": "code",
   "execution_count": null,
   "id": "d8642621",
   "metadata": {},
   "outputs": [],
   "source": []
  }
 ],
 "metadata": {
  "kernelspec": {
   "display_name": "Python 3 (ipykernel)",
   "language": "python",
   "name": "python3"
  },
  "language_info": {
   "codemirror_mode": {
    "name": "ipython",
    "version": 3
   },
   "file_extension": ".py",
   "mimetype": "text/x-python",
   "name": "python",
   "nbconvert_exporter": "python",
   "pygments_lexer": "ipython3",
   "version": "3.9.12"
  }
 },
 "nbformat": 4,
 "nbformat_minor": 5
}
